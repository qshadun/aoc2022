{
 "cells": [
  {
   "cell_type": "code",
   "execution_count": 9,
   "metadata": {},
   "outputs": [],
   "source": [
    "from utils import read_lines\n",
    "\n",
    "def compare(p1, p2):\n",
    "    if type(p1) == int and type(p2) == int:\n",
    "        return p1 - p2\n",
    "    elif type(p1) == list and type(p2) == int:\n",
    "        return compare(p1, [p2])\n",
    "    elif type(p1) == int and type(p2) == list:\n",
    "        return compare([p1], p2)\n",
    "    else:\n",
    "        i = 0\n",
    "        while i < len(p1) and i < len(p2):\n",
    "            comp = compare(p1[i], p2[i])\n",
    "            if comp:\n",
    "                return comp\n",
    "            else:\n",
    "                i += 1\n",
    "        return len(p1) - len(p2)\n",
    "\n",
    "def parse_input(input_file):\n",
    "    lines = read_lines(input_file)\n",
    "    pairs = []\n",
    "    for i in range(0, len(lines), 3):\n",
    "        p1 = eval(lines[i])\n",
    "        p2 = eval(lines[i + 1])\n",
    "        pairs.append([p1, p2])\n",
    "    return pairs\n",
    "\n",
    "def part1(input_file):\n",
    "    ans = 0\n",
    "    pairs = parse_input(input_file)\n",
    "    # print(pairs)\n",
    "    for i, [p1, p2] in enumerate(pairs):\n",
    "        if compare(p1, p2) < 0:\n",
    "            ans += i + 1\n",
    "    return ans\n"
   ]
  },
  {
   "cell_type": "code",
   "execution_count": 10,
   "metadata": {},
   "outputs": [
    {
     "data": {
      "text/plain": [
       "5588"
      ]
     },
     "execution_count": 10,
     "metadata": {},
     "output_type": "execute_result"
    }
   ],
   "source": [
    "part1('inputs/day13.txt')"
   ]
  },
  {
   "cell_type": "code",
   "execution_count": 15,
   "metadata": {},
   "outputs": [],
   "source": [
    "from functools import cmp_to_key\n",
    "\n",
    "def part2(input_file):\n",
    "    pairs = parse_input(input_file)\n",
    "    packets = [x for p in pairs for x in p]\n",
    "    packets.sort(key=cmp_to_key(compare))\n",
    "    d1 = [[2]]\n",
    "    d2 = [[6]]\n",
    "    i1, i2 = 0, 0\n",
    "    for i, p in enumerate(packets):\n",
    "        if not i1 and compare(p, d1) > 0:\n",
    "            i1 = i + 1\n",
    "        elif not i2 and compare(p, d2) > 0:\n",
    "            i2 = i + 2\n",
    "            break\n",
    "    return i1 * i2"
   ]
  },
  {
   "cell_type": "code",
   "execution_count": 17,
   "metadata": {},
   "outputs": [
    {
     "data": {
      "text/plain": [
       "23958"
      ]
     },
     "execution_count": 17,
     "metadata": {},
     "output_type": "execute_result"
    }
   ],
   "source": [
    "part2('inputs/day13.txt')"
   ]
  },
  {
   "cell_type": "code",
   "execution_count": null,
   "metadata": {},
   "outputs": [],
   "source": []
  }
 ],
 "metadata": {
  "kernelspec": {
   "display_name": "Test",
   "language": "python",
   "name": "python3"
  },
  "language_info": {
   "codemirror_mode": {
    "name": "ipython",
    "version": 3
   },
   "file_extension": ".py",
   "mimetype": "text/x-python",
   "name": "python",
   "nbconvert_exporter": "python",
   "pygments_lexer": "ipython3",
   "version": "3.12.2"
  }
 },
 "nbformat": 4,
 "nbformat_minor": 2
}
