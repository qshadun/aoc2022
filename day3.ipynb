{
 "cells": [
  {
   "cell_type": "code",
   "execution_count": 14,
   "metadata": {},
   "outputs": [],
   "source": [
    "def priority(c: str):\n",
    "    if c.isupper():\n",
    "        return ord(c) - ord('A') + 27\n",
    "    else:\n",
    "        return ord(c) - ord('a') + 1\n",
    "\n",
    "def part1(file):\n",
    "    ans = 0\n",
    "    for line in open(file):\n",
    "        line = line.strip()\n",
    "        n = len(line)\n",
    "        p1 = line[:n//2]\n",
    "        for c in line[n//2:]:\n",
    "            if c in p1:\n",
    "                ans += priority(c)\n",
    "                break\n",
    "    return ans"
   ]
  },
  {
   "cell_type": "code",
   "execution_count": 15,
   "metadata": {},
   "outputs": [
    {
     "data": {
      "text/plain": [
       "7908"
      ]
     },
     "execution_count": 15,
     "metadata": {},
     "output_type": "execute_result"
    }
   ],
   "source": [
    "part1('inputs/day3.txt')"
   ]
  },
  {
   "cell_type": "code",
   "execution_count": 27,
   "metadata": {},
   "outputs": [],
   "source": [
    "def part2(file):\n",
    "    ans = 0\n",
    "    cur_group = []\n",
    "    for line in open(file):\n",
    "        line = line.strip()\n",
    "        if len(cur_group) == 2:\n",
    "            for c in line:\n",
    "                if c in cur_group[0] and c in cur_group[1]:\n",
    "                    # print(c, priority(c))\n",
    "                    ans += priority(c)\n",
    "                    break\n",
    "            cur_group = []\n",
    "        else:\n",
    "            cur_group.append(line)\n",
    "    return ans"
   ]
  },
  {
   "cell_type": "code",
   "execution_count": 28,
   "metadata": {},
   "outputs": [
    {
     "data": {
      "text/plain": [
       "2838"
      ]
     },
     "execution_count": 28,
     "metadata": {},
     "output_type": "execute_result"
    }
   ],
   "source": [
    "part2('inputs/day3.txt')"
   ]
  },
  {
   "cell_type": "code",
   "execution_count": null,
   "metadata": {},
   "outputs": [],
   "source": []
  }
 ],
 "metadata": {
  "kernelspec": {
   "display_name": "Test",
   "language": "python",
   "name": "python3"
  },
  "language_info": {
   "codemirror_mode": {
    "name": "ipython",
    "version": 3
   },
   "file_extension": ".py",
   "mimetype": "text/x-python",
   "name": "python",
   "nbconvert_exporter": "python",
   "pygments_lexer": "ipython3",
   "version": "3.11.5"
  }
 },
 "nbformat": 4,
 "nbformat_minor": 2
}
