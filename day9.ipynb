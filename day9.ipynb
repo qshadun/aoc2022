{
 "cells": [
  {
   "cell_type": "code",
   "execution_count": 1,
   "metadata": {},
   "outputs": [],
   "source": [
    "from utils import read_lines\n",
    "\n",
    "lines = read_lines(input_file='inputs/day9.txt')"
   ]
  },
  {
   "cell_type": "code",
   "execution_count": 2,
   "metadata": {},
   "outputs": [],
   "source": [
    "visited = set([(0, 0)])\n",
    "head_x, head_y = 0, 0\n",
    "tail_x, tail_y = 0, 0\n",
    "\n",
    "directions = {\n",
    "    'L': (0, -1),\n",
    "    'R': (0, 1),\n",
    "    'U': (-1, 0),\n",
    "    'D': (1, 0),\n",
    "}"
   ]
  },
  {
   "cell_type": "code",
   "execution_count": 3,
   "metadata": {},
   "outputs": [],
   "source": [
    "def move(line):\n",
    "    global head_x, head_y, tail_x, tail_y\n",
    "    direction, steps = line.split(' ')\n",
    "    steps = int(steps)\n",
    "    dx, dy = directions[direction]\n",
    "    for _ in range(steps):\n",
    "        head_x, head_y = head_x + dx, head_y + dy\n",
    "        if abs(head_x - tail_x) > 1:\n",
    "            tail_x = tail_x + dx\n",
    "            tail_y = head_y\n",
    "            visited.add((tail_x, tail_y))\n",
    "        elif abs(head_y - tail_y) > 1:\n",
    "            tail_y = tail_y + dy\n",
    "            tail_x = head_x\n",
    "            visited.add((tail_x, tail_y))\n",
    "\n",
    "def part1():\n",
    "    for line in lines:\n",
    "        move(line)\n",
    "    print(len(visited))"
   ]
  },
  {
   "cell_type": "code",
   "execution_count": 4,
   "metadata": {},
   "outputs": [
    {
     "name": "stdout",
     "output_type": "stream",
     "text": [
      "6357\n"
     ]
    }
   ],
   "source": [
    "part1()"
   ]
  },
  {
   "cell_type": "code",
   "execution_count": 5,
   "metadata": {},
   "outputs": [],
   "source": [
    "def move2(xs, ys, line, visited):\n",
    "    direction, steps = line.split(' ')\n",
    "    steps = int(steps)\n",
    "    dx, dy = directions[direction]\n",
    "    for _ in range(steps):\n",
    "        xs[0], ys[0] = xs[0] + dx, ys[0] + dy\n",
    "        for i in range(1, 10):\n",
    "            if abs(xs[i] - xs[i-1]) > 1:\n",
    "                xs[i] += (xs[i - 1] - xs[i]) // 2\n",
    "                if abs((ys[i-1] - ys[i])) == 1:\n",
    "                    ys[i] = ys[i - 1]\n",
    "                else:\n",
    "                    ys[i] += (ys[i-1] - ys[i]) // 2\n",
    "            elif abs(ys[i] - ys[i-1]) > 1:\n",
    "                ys[i] += (ys[i - 1] - ys[i]) //2\n",
    "                if abs(xs[i - 1] - xs[i]) == 1:\n",
    "                       xs[i] = xs[i - 1]\n",
    "                else:\n",
    "                    xs[i] += (xs[i - 1] - xs[i]) // 2\n",
    "            else:\n",
    "                break\n",
    "        visited.add((xs[9], ys[9]))\n",
    "    # print(str(xs), str(ys))\n",
    "    \n",
    "    \n",
    "def part2(input_file):\n",
    "    lines = read_lines(input_file=input_file)\n",
    "    visited = set([(0, 0)])\n",
    "    xs = [0] * 10\n",
    "    ys = [0] * 10\n",
    "    for line in lines:\n",
    "        move2(xs, ys, line, visited)\n",
    "    print(len(visited))\n",
    "    # print(visited)\n",
    "    \n"
   ]
  },
  {
   "cell_type": "code",
   "execution_count": 6,
   "metadata": {},
   "outputs": [
    {
     "name": "stdout",
     "output_type": "stream",
     "text": [
      "2627\n"
     ]
    }
   ],
   "source": [
    "part2('inputs/day9.txt')"
   ]
  },
  {
   "cell_type": "code",
   "execution_count": null,
   "metadata": {},
   "outputs": [],
   "source": []
  }
 ],
 "metadata": {
  "kernelspec": {
   "display_name": "Test",
   "language": "python",
   "name": "python3"
  },
  "language_info": {
   "codemirror_mode": {
    "name": "ipython",
    "version": 3
   },
   "file_extension": ".py",
   "mimetype": "text/x-python",
   "name": "python",
   "nbconvert_exporter": "python",
   "pygments_lexer": "ipython3",
   "version": "3.12.2"
  }
 },
 "nbformat": 4,
 "nbformat_minor": 2
}
