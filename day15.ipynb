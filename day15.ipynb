{
 "cells": [
  {
   "cell_type": "code",
   "execution_count": 72,
   "metadata": {},
   "outputs": [],
   "source": [
    "import re\n",
    "from utils import read_lines\n",
    "\n",
    "regex = re.compile(r'.*x=(-?\\d+), y=(-?\\d+):.*x=(-?\\d+), y=(-?\\d+)')\n",
    "\n",
    "def parse_line(line):\n",
    "    m = regex.match(line)\n",
    "    gs = m.groups()\n",
    "    return (int(gs[0]), int(gs[1])), (int(gs[2]), int(gs[3]))\n",
    "\n",
    "def parse_input(input_fule):\n",
    "    lines = read_lines(input_fule)\n",
    "    sensor_to_beacon = {}\n",
    "    for line in lines:\n",
    "        sensor, beacon = parse_line(line)\n",
    "        sensor_to_beacon[sensor] = beacon\n",
    "    return sensor_to_beacon\n",
    "\n",
    "def distance(p1, p2):\n",
    "    return abs(p1[0] - p2[0]) + abs(p1[1] - p2[1])\n",
    "\n",
    "def merge_bounds(bounds):\n",
    "    ans = []\n",
    "    bounds.sort()\n",
    "    low, hi = bounds[0]\n",
    "    for i in range(1, len(bounds)):\n",
    "        l1, h1 = bounds[i]\n",
    "        if l1 > hi:\n",
    "            ans.append([low, hi])\n",
    "            low, hi = l1, h1\n",
    "        else:\n",
    "            hi = max(hi, h1)\n",
    "    ans.append([low, hi])\n",
    "    return ans\n",
    "\n",
    "def part1(input_file, line_no):\n",
    "    sensor_to_beacon = parse_input(input_file)\n",
    "    sensors_range = {s: distance(s, b) for s, b in sensor_to_beacon.items()}\n",
    "    x_bounds = []\n",
    "    for (x, y), r in sensors_range.items():\n",
    "        y_dist = abs(y - line_no)\n",
    "\n",
    "        if y_dist <= r:\n",
    "            x_dist = r - y_dist\n",
    "            x_bounds.append([x - x_dist, x + x_dist])\n",
    "    bounds = merge_bounds(x_bounds)\n",
    "    ans = 0\n",
    "    for low, hi in bounds:\n",
    "        ans += hi - low + 1\n",
    "    for b in set(sensor_to_beacon.values()):\n",
    "        if b[1] == line_no:\n",
    "            ans -= 1\n",
    "    return ans\n"
   ]
  },
  {
   "cell_type": "code",
   "execution_count": 73,
   "metadata": {},
   "outputs": [
    {
     "data": {
      "text/plain": [
       "5607466"
      ]
     },
     "execution_count": 73,
     "metadata": {},
     "output_type": "execute_result"
    }
   ],
   "source": [
    "part1('inputs/day15.txt', 2000000)"
   ]
  },
  {
   "cell_type": "code",
   "execution_count": 74,
   "metadata": {},
   "outputs": [
    {
     "data": {
      "text/plain": [
       "26"
      ]
     },
     "execution_count": 74,
     "metadata": {},
     "output_type": "execute_result"
    }
   ],
   "source": [
    "part1('inputs/day15_test.txt', 10)"
   ]
  },
  {
   "cell_type": "code",
   "execution_count": 76,
   "metadata": {},
   "outputs": [],
   "source": [
    "def part2(input_file):\n",
    "\n",
    "    sensor_to_beacon = parse_input(input_file)\n",
    "    sensors_range = {s: distance(s, b) for s, b in sensor_to_beacon.items()}\n",
    "    for row in range(0, 4000000):\n",
    "        x_bounds = []\n",
    "        for (x, y), r in sensors_range.items():\n",
    "            y_dist = abs(y - row)\n",
    "\n",
    "            if y_dist <= r:\n",
    "                x_dist = r - y_dist\n",
    "                x_bounds.append([x - x_dist, x + x_dist])\n",
    "        x_bounds = merge_bounds(x_bounds)\n",
    "        if len(x_bounds) > 1:\n",
    "            print(x_bounds)\n",
    "            print(x_bounds[0][1] + 1, row)\n",
    "            print((x_bounds[0][1] + 1) * 4000000 + row)\n",
    "            break\n"
   ]
  },
  {
   "cell_type": "code",
   "execution_count": 77,
   "metadata": {},
   "outputs": [
    {
     "name": "stdout",
     "output_type": "stream",
     "text": [
      "[[-864133, 3135799], [3135801, 4102797]]\n",
      "3135800 2766584\n",
      "12543202766584\n"
     ]
    }
   ],
   "source": [
    "part2('inputs/day15.txt')"
   ]
  },
  {
   "cell_type": "code",
   "execution_count": null,
   "metadata": {},
   "outputs": [],
   "source": []
  }
 ],
 "metadata": {
  "kernelspec": {
   "display_name": "Test",
   "language": "python",
   "name": "python3"
  },
  "language_info": {
   "codemirror_mode": {
    "name": "ipython",
    "version": 3
   },
   "file_extension": ".py",
   "mimetype": "text/x-python",
   "name": "python",
   "nbconvert_exporter": "python",
   "pygments_lexer": "ipython3",
   "version": "3.12.2"
  }
 },
 "nbformat": 4,
 "nbformat_minor": 2
}
