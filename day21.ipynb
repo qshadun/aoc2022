{
 "cells": [
  {
   "cell_type": "code",
   "execution_count": 77,
   "metadata": {},
   "outputs": [],
   "source": [
    "from utils import read_lines\n",
    "from collections import deque\n",
    "\n",
    "\n",
    "\n",
    "def parse_input(input_file):\n",
    "    number_robots = dict()\n",
    "    math_robots = deque()\n",
    "    for line in read_lines(input_file):\n",
    "        parts = line.split(' ')\n",
    "        name = parts[0][:-1]\n",
    "        if len(parts) == 2:\n",
    "            number_robots[name] = int(parts[1])\n",
    "        else:\n",
    "            math_robots.append([name] + parts[1:])\n",
    "    return number_robots, math_robots\n",
    "\n",
    "def part1(input_file):\n",
    "    number_robots, math_robots = parse_input(input_file)\n",
    "    while math_robots:\n",
    "        mr = math_robots.popleft()\n",
    "        name, op1, oprand, op2 = mr\n",
    "        if op1 in number_robots and op2 in number_robots:\n",
    "            op1 = number_robots[op1]\n",
    "            op2 = number_robots[op2]\n",
    "            if oprand == '+':\n",
    "                v = op1 + op2\n",
    "            elif oprand == '-':\n",
    "                v = op1 - op2\n",
    "            elif oprand == '*':\n",
    "                v = op1 * op2\n",
    "            else:\n",
    "                v = op1 // op2\n",
    "            if name == 'root':\n",
    "                return v\n",
    "            number_robots[name] = v\n",
    "        else:\n",
    "            math_robots.append(mr)\n",
    "\n"
   ]
  },
  {
   "cell_type": "code",
   "execution_count": 78,
   "metadata": {},
   "outputs": [
    {
     "data": {
      "text/plain": [
       "232974643455000"
      ]
     },
     "execution_count": 78,
     "metadata": {},
     "output_type": "execute_result"
    }
   ],
   "source": [
    "part1('inputs/day21.txt')"
   ]
  },
  {
   "cell_type": "code",
   "execution_count": 76,
   "metadata": {},
   "outputs": [],
   "source": [
    "def parse_input2(input_file):\n",
    "    number_robots = dict()\n",
    "    math_robots = dict()\n",
    "    for line in read_lines(input_file):\n",
    "        parts = line.split(' ')\n",
    "        name = parts[0][:-1]\n",
    "        if len(parts) == 2:\n",
    "            number_robots[name] = int(parts[1])\n",
    "        else:\n",
    "            math_robots[name] =  parts[1:]\n",
    "    return number_robots, math_robots\n",
    "\n",
    "def calc_root(number_robots, math_robots):\n",
    "    q = deque()\n",
    "    for mr in math_robots:\n",
    "        q.append(mr)\n",
    "    while q:\n",
    "        name = q.popleft()\n",
    "        op1, oprand, op2 = math_robots[name]\n",
    "        if op1 in number_robots and op2 in number_robots:\n",
    "            op1 = number_robots[op1]\n",
    "            op2 = number_robots[op2]\n",
    "            if name != 'root':\n",
    "                if oprand == '+':\n",
    "                    v = op1 + op2\n",
    "                elif oprand == '-':\n",
    "                    v = op1 - op2\n",
    "                elif oprand == '*':\n",
    "                    v = op1 * op2\n",
    "                else:\n",
    "                    v = op1 // op2\n",
    "                \n",
    "                number_robots[name] = v\n",
    "            else:\n",
    "                # print(number_robots['humn'], op1, op2, op1-op2)\n",
    "                return op1 - op2\n",
    "        else:\n",
    "            q.append(name)"
   ]
  },
  {
   "cell_type": "code",
   "execution_count": 75,
   "metadata": {},
   "outputs": [
    {
     "data": {
      "text/plain": [
       "3740214169961"
      ]
     },
     "execution_count": 75,
     "metadata": {},
     "output_type": "execute_result"
    }
   ],
   "source": [
    "def part2(input_file):\n",
    "    number_robots, math_robots = parse_input2(input_file)\n",
    "    l = 1\n",
    "    r = 10 ** 15\n",
    "    while l <= r:\n",
    "        mid = (l + r) // 2\n",
    "        nr = number_robots.copy()\n",
    "        nr['humn'] = mid\n",
    "        v = calc_root(nr, math_robots)\n",
    "        \n",
    "        if v > 0:\n",
    "            l = mid + 1\n",
    "        else:\n",
    "            r = mid - 1\n",
    "    return l\n",
    "\n",
    "part2('inputs/day21.txt')"
   ]
  },
  {
   "cell_type": "code",
   "execution_count": null,
   "metadata": {},
   "outputs": [],
   "source": []
  }
 ],
 "metadata": {
  "kernelspec": {
   "display_name": "base",
   "language": "python",
   "name": "python3"
  },
  "language_info": {
   "codemirror_mode": {
    "name": "ipython",
    "version": 3
   },
   "file_extension": ".py",
   "mimetype": "text/x-python",
   "name": "python",
   "nbconvert_exporter": "python",
   "pygments_lexer": "ipython3",
   "version": "3.9.13"
  }
 },
 "nbformat": 4,
 "nbformat_minor": 2
}
