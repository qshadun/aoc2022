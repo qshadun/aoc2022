{
 "cells": [
  {
   "cell_type": "code",
   "execution_count": 12,
   "metadata": {},
   "outputs": [],
   "source": [
    "from utils import read_lines\n",
    "def part1(input_file):\n",
    "    lines = read_lines(input_file)\n",
    "    matrix = [[int(x) for x in line] for line in lines]\n",
    "    n = len(matrix)\n",
    "    visable = [[0] * n for _ in range(n)]\n",
    "    \n",
    "    for i in range(n):\n",
    "        # left to right\n",
    "        cur_max = -1\n",
    "        for j in range(n):\n",
    "            if matrix[i][j] > cur_max:\n",
    "                visable[i][j] = 1\n",
    "                cur_max = matrix[i][j]\n",
    "        #right to left\n",
    "        cur_max = -1\n",
    "        for j in range(n-1, -1, -1):\n",
    "            if matrix[i][j] > cur_max:\n",
    "                visable[i][j] = 1\n",
    "                cur_max = matrix[i][j]\n",
    "    for j in range(n):\n",
    "        # up to down\n",
    "        cur_max = -1\n",
    "        for i in range(n):\n",
    "            if matrix[i][j] > cur_max:\n",
    "                visable[i][j] = 1\n",
    "                cur_max = matrix[i][j]\n",
    "        # down to up\n",
    "        cur_max = -1\n",
    "        for i in range(n-1, -1, -1):\n",
    "            if matrix[i][j] > cur_max:\n",
    "                visable[i][j] = 1\n",
    "                cur_max = matrix[i][j]\n",
    "    return sum([x for row in visable for x in row])"
   ]
  },
  {
   "cell_type": "code",
   "execution_count": 13,
   "metadata": {},
   "outputs": [
    {
     "data": {
      "text/plain": [
       "1684"
      ]
     },
     "execution_count": 13,
     "metadata": {},
     "output_type": "execute_result"
    }
   ],
   "source": [
    "part1('inputs/day8.txt')\n"
   ]
  },
  {
   "cell_type": "code",
   "execution_count": 20,
   "metadata": {},
   "outputs": [],
   "source": [
    "def part2(input_file):\n",
    "    lines = read_lines(input_file)\n",
    "    matrix = [[int(x) for x in line] for line in lines]\n",
    "    n = len(matrix)\n",
    "    max_score = 0\n",
    "    for i in range(1, n-1):\n",
    "        for j in range(1, n - 1):\n",
    "            cur = matrix[i][j]\n",
    "            left = 1\n",
    "            k = j - 1\n",
    "            while k > 0 and matrix[i][k] < cur:\n",
    "                k -= 1\n",
    "                left += 1\n",
    "            right = 1\n",
    "            k = j + 1\n",
    "            while k < n - 1 and matrix[i][k] < cur:\n",
    "                k += 1\n",
    "                right += 1\n",
    "            up = 1\n",
    "            k = i - 1\n",
    "            while k > 0 and matrix[k][j] < cur:\n",
    "                k -= 1\n",
    "                up += 1\n",
    "            down = 1\n",
    "            k = i + 1\n",
    "            while k < n - 1 and matrix[k][j] < cur:\n",
    "                k += 1\n",
    "                down += 1\n",
    "            score = left * right * up * down\n",
    "            max_score = max(max_score, score)\n",
    "    return max_score"
   ]
  },
  {
   "cell_type": "code",
   "execution_count": 23,
   "metadata": {},
   "outputs": [
    {
     "data": {
      "text/plain": [
       "486540"
      ]
     },
     "execution_count": 23,
     "metadata": {},
     "output_type": "execute_result"
    }
   ],
   "source": [
    "part2('inputs/day8.txt')"
   ]
  },
  {
   "cell_type": "code",
   "execution_count": null,
   "metadata": {},
   "outputs": [],
   "source": []
  }
 ],
 "metadata": {
  "kernelspec": {
   "display_name": "Test",
   "language": "python",
   "name": "python3"
  },
  "language_info": {
   "codemirror_mode": {
    "name": "ipython",
    "version": 3
   },
   "file_extension": ".py",
   "mimetype": "text/x-python",
   "name": "python",
   "nbconvert_exporter": "python",
   "pygments_lexer": "ipython3",
   "version": "3.11.5"
  }
 },
 "nbformat": 4,
 "nbformat_minor": 2
}
