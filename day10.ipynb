{
 "cells": [
  {
   "cell_type": "code",
   "execution_count": 3,
   "metadata": {},
   "outputs": [],
   "source": [
    "from utils import read_lines\n",
    "\n",
    "def part1(input_file):\n",
    "    lines = read_lines(input_file)\n",
    "    cycle = 1\n",
    "    signal_strengh = 1\n",
    "    scores = []\n",
    "    for line in lines:\n",
    "        if line.startswith('noop'):\n",
    "            cycle += 1\n",
    "            if (cycle - 20) % 40 == 0:\n",
    "                scores.append(cycle * signal_strengh)\n",
    "                if len(scores) == 6:\n",
    "                    break\n",
    "        else:\n",
    "            cmd, v = line.split(' ')\n",
    "            v = int(v)\n",
    "            cycle += 1\n",
    "            if (cycle - 20) % 40 == 0:\n",
    "                scores.append(cycle * signal_strengh)\n",
    "                if len(scores) == 6:\n",
    "                    break\n",
    "            cycle += 1\n",
    "            signal_strengh += v\n",
    "            if (cycle - 20) % 40 == 0:\n",
    "                scores.append(cycle * signal_strengh)\n",
    "                if len(scores) == 6:\n",
    "                    break\n",
    "\n",
    "    print(scores)\n",
    "    print(sum(scores))\n"
   ]
  },
  {
   "cell_type": "code",
   "execution_count": 5,
   "metadata": {},
   "outputs": [
    {
     "name": "stdout",
     "output_type": "stream",
     "text": [
      "[320, 1260, 1700, 2940, 2880, 4620]\n",
      "13720\n"
     ]
    }
   ],
   "source": [
    "part1('inputs/day10.txt')"
   ]
  },
  {
   "cell_type": "code",
   "execution_count": 8,
   "metadata": {},
   "outputs": [],
   "source": [
    "def part2(input_file):\n",
    "    lines = read_lines(input_file)\n",
    "    cycle = 1\n",
    "    sprite_pos = 0\n",
    "    screen = [['#'] * 40 for _ in range(6)]\n",
    "\n",
    "    for line in lines:\n",
    "        if line.startswith('noop'):\n",
    "            cycle += 1\n",
    "            r = (cycle - 1) // 40\n",
    "            c = (cycle - 1) % 40\n",
    "            if sprite_pos <= c <= sprite_pos + 2:\n",
    "                pass\n",
    "            else:\n",
    "                screen[r][c] = '.'\n",
    "        else:\n",
    "            cmd, v = line.split(' ')\n",
    "            v = int(v)\n",
    "            cycle += 1\n",
    "            r = (cycle - 1) // 40\n",
    "            c = (cycle - 1) % 40\n",
    "            if sprite_pos <= c <= sprite_pos + 2:\n",
    "                pass\n",
    "            else:\n",
    "                screen[r][c] = '.'\n",
    "            cycle += 1\n",
    "            sprite_pos += v\n",
    "            r = (cycle - 1) // 40\n",
    "            c = (cycle - 1) % 40\n",
    "            if sprite_pos <= c <= sprite_pos + 2:\n",
    "                pass\n",
    "            else:\n",
    "                screen[r][c] = '.'\n",
    "        if cycle >= 240:\n",
    "            break\n",
    "    for r in range(6):\n",
    "        print(''.join(screen[r]))\n",
    "\n",
    "    "
   ]
  },
  {
   "cell_type": "code",
   "execution_count": 10,
   "metadata": {},
   "outputs": [
    {
     "name": "stdout",
     "output_type": "stream",
     "text": [
      "####.###..#..#.###..#..#.####..##..#..#.\n",
      "#....#..#.#..#.#..#.#..#....#.#..#.#..#.\n",
      "###..###..#..#.#..#.####...#..#....####.\n",
      "#....#..#.#..#.###..#..#..#...#....#..#.\n",
      "#....#..#.#..#.#.#..#..#.#....#..#.#..#.\n",
      "#....###...##..#..#.#..#.####..##..#..#.\n"
     ]
    }
   ],
   "source": [
    "part2('inputs/day10.txt')"
   ]
  },
  {
   "cell_type": "code",
   "execution_count": 11,
   "metadata": {},
   "outputs": [
    {
     "name": "stdout",
     "output_type": "stream",
     "text": [
      "##..##..##..##..##..##..##..##..##..##..\n",
      "###...###...###...###...###...###...###.\n",
      "####....####....####....####....####....\n",
      "#####.....#####.....#####.....#####.....\n",
      "######......######......######......####\n",
      "#######.......#######.......#######.....\n"
     ]
    }
   ],
   "source": [
    "part2('inputs/day10_test.txt')"
   ]
  },
  {
   "cell_type": "code",
   "execution_count": null,
   "metadata": {},
   "outputs": [],
   "source": []
  }
 ],
 "metadata": {
  "kernelspec": {
   "display_name": "Test",
   "language": "python",
   "name": "python3"
  },
  "language_info": {
   "codemirror_mode": {
    "name": "ipython",
    "version": 3
   },
   "file_extension": ".py",
   "mimetype": "text/x-python",
   "name": "python",
   "nbconvert_exporter": "python",
   "pygments_lexer": "ipython3",
   "version": "3.11.5"
  }
 },
 "nbformat": 4,
 "nbformat_minor": 2
}
