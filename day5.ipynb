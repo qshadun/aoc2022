{
 "cells": [
  {
   "cell_type": "code",
   "execution_count": 34,
   "metadata": {},
   "outputs": [],
   "source": [
    "from utils import read_lines    \n",
    "\n",
    "def parse_stacks(stacks_lines):\n",
    "    n = len(stacks_lines[0]) // 4 + 1\n",
    "    stacks = [[] for _ in range(n)]\n",
    "    for line in stacks_lines[::-1]:\n",
    "        for i in range(n):\n",
    "            if line[4*i + 1] != ' ':\n",
    "                stacks[i].append(line[4*i + 1])\n",
    "    return stacks\n",
    "\n",
    "def parse_instructions(instruction_lines):\n",
    "    ans = []\n",
    "    for line in instruction_lines:\n",
    "        parts = line.split(' ')\n",
    "        ans.append((int(parts[1]), int(parts[3]), int(parts[5])))\n",
    "    return ans\n",
    "\n",
    "def parse_input(input_file):\n",
    "    lines = read_lines(input_file)\n",
    "    empty_line_index = lines.index('')\n",
    "    stack_lines = lines[:empty_line_index - 1]\n",
    "    instruction_lines = lines[empty_line_index+1:]\n",
    "    return parse_stacks(stack_lines), parse_instructions(instruction_lines)"
   ]
  },
  {
   "cell_type": "code",
   "execution_count": 45,
   "metadata": {},
   "outputs": [],
   "source": [
    "def part1(input_file):\n",
    "    stacks, instructions = parse_input(input_file)\n",
    "    for cnt, from_index, to_index in instructions:\n",
    "        for _ in range(cnt):\n",
    "            c = stacks[from_index - 1].pop()\n",
    "            stacks[to_index - 1].append(c)\n",
    "    top_chars = [s[-1] for s in stacks]\n",
    "    return ''.join(top_chars)\n"
   ]
  },
  {
   "cell_type": "code",
   "execution_count": 46,
   "metadata": {},
   "outputs": [
    {
     "data": {
      "text/plain": [
       "'ZBDRNPMVH'"
      ]
     },
     "execution_count": 46,
     "metadata": {},
     "output_type": "execute_result"
    }
   ],
   "source": [
    "part1('inputs/day5.txt')"
   ]
  },
  {
   "cell_type": "code",
   "execution_count": 47,
   "metadata": {},
   "outputs": [],
   "source": [
    "def part2(input_file):\n",
    "    stacks, instructions = parse_input(input_file)\n",
    "    for cnt, from_index, to_index in instructions:\n",
    "        stacks[to_index - 1] += stacks[from_index - 1][-cnt:]\n",
    "        stacks[from_index - 1] = stacks[from_index - 1][:-cnt]\n",
    "    top_chars = [s[-1] for s in stacks]\n",
    "    return ''.join(top_chars)"
   ]
  },
  {
   "cell_type": "code",
   "execution_count": 48,
   "metadata": {},
   "outputs": [
    {
     "data": {
      "text/plain": [
       "'WDLPFNNNB'"
      ]
     },
     "execution_count": 48,
     "metadata": {},
     "output_type": "execute_result"
    }
   ],
   "source": [
    "part2('inputs/day5.txt')"
   ]
  },
  {
   "cell_type": "code",
   "execution_count": null,
   "metadata": {},
   "outputs": [],
   "source": []
  }
 ],
 "metadata": {
  "kernelspec": {
   "display_name": "Test",
   "language": "python",
   "name": "python3"
  },
  "language_info": {
   "codemirror_mode": {
    "name": "ipython",
    "version": 3
   },
   "file_extension": ".py",
   "mimetype": "text/x-python",
   "name": "python",
   "nbconvert_exporter": "python",
   "pygments_lexer": "ipython3",
   "version": "3.11.5"
  }
 },
 "nbformat": 4,
 "nbformat_minor": 2
}
