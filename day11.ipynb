{
 "cells": [
  {
   "cell_type": "code",
   "execution_count": 34,
   "metadata": {},
   "outputs": [],
   "source": [
    "from utils import read_lines\n",
    "import re\n",
    "\n",
    "class Monkey:\n",
    "    def __init__(self, lines):\n",
    "        self.count = 0\n",
    "        items = re.split(r'\\W+', lines[1])\n",
    "        self.items = [int(x) for x in items[3:]]\n",
    "        _, ops = lines[2].split(' = ')\n",
    "        ops = ops.split(' ')\n",
    "        if ops[0] == 'old':\n",
    "            self.rand1 = 'old'\n",
    "        else:\n",
    "            self.rand1 = int(ops[0])\n",
    "        self.op = ops[1]\n",
    "        if ops[2] == 'old':\n",
    "            self.rand2 = 'old'\n",
    "        else:\n",
    "            self.rand2 = int(ops[2])\n",
    "        self.divider = int(lines[3].split(' ')[-1])\n",
    "        self.jump_true = int(lines[4].split(' ')[-1])\n",
    "        self.jump_false = int(lines[5].split(' ')[-1])\n",
    "\n",
    "    def __repr__(self):\n",
    "        return str(self.__dict__)\n",
    "    \n",
    "    def calc_item(self, item):\n",
    "        if self.rand1 == 'old':\n",
    "            rand1 = item\n",
    "        else:\n",
    "            rand1 = self.rand1\n",
    "        if self.rand2 == 'old':\n",
    "            rand2 = item\n",
    "        else:\n",
    "            rand2 = self.rand2\n",
    "        if self.op == '+':\n",
    "            new_item = rand1 + rand2\n",
    "        else:\n",
    "            new_item = rand1 * rand2\n",
    "        return new_item\n",
    "    \n",
    "    def process_item(self, item):\n",
    "        new_item = self.calc_item(item)\n",
    "        if new_item % self.divider:\n",
    "            return new_item, self.jump_false\n",
    "        else:\n",
    "            return new_item, self.jump_true\n",
    "    \n",
    "    def receive_item(self, item):\n",
    "        self.items.append(item)\n",
    "\n",
    "\n",
    "def part1(input_file):\n",
    "    lines = read_lines(input_file)\n",
    "    monkeys = []\n",
    "    for i in range(0, len(lines), 7):\n",
    "        monkeys.append(Monkey(lines[i:i+6]))\n",
    "        print(monkeys[-1])\n",
    "    # print('start loop')\n",
    "    for i in range(20):\n",
    "        # print('round ', i)\n",
    "        for m in monkeys:\n",
    "            for item in m.items:\n",
    "                m.count += 1\n",
    "                new_item, dest = m.process_item(item)\n",
    "                monkeys[dest].receive_item(new_item // 3)\n",
    "            m.items=[]\n",
    "        # print(monkeys)\n",
    "    all_counts = [m.count for m in monkeys]\n",
    "    print(all_counts)\n",
    "    all_counts.sort()\n",
    "    print(all_counts[-2] * all_counts[-1])\n"
   ]
  },
  {
   "cell_type": "code",
   "execution_count": 32,
   "metadata": {},
   "outputs": [
    {
     "name": "stdout",
     "output_type": "stream",
     "text": [
      "{'count': 0, 'items': [99, 67, 92, 61, 83, 64, 98], 'rand1': 'old', 'op': '*', 'rand2': 17, 'divider': 3, 'jump_true': 4, 'jump_false': 2}\n",
      "{'count': 0, 'items': [78, 74, 88, 89, 50], 'rand1': 'old', 'op': '*', 'rand2': 11, 'divider': 5, 'jump_true': 3, 'jump_false': 5}\n",
      "{'count': 0, 'items': [98, 91], 'rand1': 'old', 'op': '+', 'rand2': 4, 'divider': 2, 'jump_true': 6, 'jump_false': 4}\n",
      "{'count': 0, 'items': [59, 72, 94, 91, 79, 88, 94, 51], 'rand1': 'old', 'op': '*', 'rand2': 'old', 'divider': 13, 'jump_true': 0, 'jump_false': 5}\n",
      "{'count': 0, 'items': [95, 72, 78], 'rand1': 'old', 'op': '+', 'rand2': 7, 'divider': 11, 'jump_true': 7, 'jump_false': 6}\n",
      "{'count': 0, 'items': [76], 'rand1': 'old', 'op': '+', 'rand2': 8, 'divider': 17, 'jump_true': 0, 'jump_false': 2}\n",
      "{'count': 0, 'items': [69, 60, 53, 89, 71, 88], 'rand1': 'old', 'op': '+', 'rand2': 5, 'divider': 19, 'jump_true': 7, 'jump_false': 1}\n",
      "{'count': 0, 'items': [72, 54, 63, 80], 'rand1': 'old', 'op': '+', 'rand2': 3, 'divider': 7, 'jump_true': 1, 'jump_false': 3}\n",
      "[11, 337, 344, 41, 272, 358, 355, 16]\n",
      "127090\n"
     ]
    }
   ],
   "source": [
    "part1('inputs/day11.txt')"
   ]
  },
  {
   "cell_type": "code",
   "execution_count": 35,
   "metadata": {},
   "outputs": [],
   "source": [
    "def part2(input_file):\n",
    "    lines = read_lines(input_file)\n",
    "    monkeys = []\n",
    "    for i in range(0, len(lines), 7):\n",
    "        monkeys.append(Monkey(lines[i:i+6]))\n",
    "        print(monkeys[-1])\n",
    "    MOD = 1\n",
    "    for m in monkeys:\n",
    "        MOD *= m.divider\n",
    "    \n",
    "    # print('start loop')\n",
    "    for i in range(10000):\n",
    "        # print('round ', i)\n",
    "        for m in monkeys:\n",
    "            for item in m.items:\n",
    "                m.count += 1\n",
    "                new_item, dest = m.process_item(item)\n",
    "                monkeys[dest].receive_item(new_item % MOD)\n",
    "            m.items=[]\n",
    "        # print(monkeys)\n",
    "    all_counts = [m.count for m in monkeys]\n",
    "    print(all_counts)\n",
    "    all_counts.sort()\n",
    "    print(all_counts[-2] * all_counts[-1])"
   ]
  },
  {
   "cell_type": "code",
   "execution_count": 37,
   "metadata": {},
   "outputs": [
    {
     "name": "stdout",
     "output_type": "stream",
     "text": [
      "{'count': 0, 'items': [99, 67, 92, 61, 83, 64, 98], 'rand1': 'old', 'op': '*', 'rand2': 17, 'divider': 3, 'jump_true': 4, 'jump_false': 2}\n",
      "{'count': 0, 'items': [78, 74, 88, 89, 50], 'rand1': 'old', 'op': '*', 'rand2': 11, 'divider': 5, 'jump_true': 3, 'jump_false': 5}\n",
      "{'count': 0, 'items': [98, 91], 'rand1': 'old', 'op': '+', 'rand2': 4, 'divider': 2, 'jump_true': 6, 'jump_false': 4}\n",
      "{'count': 0, 'items': [59, 72, 94, 91, 79, 88, 94, 51], 'rand1': 'old', 'op': '*', 'rand2': 'old', 'divider': 13, 'jump_true': 0, 'jump_false': 5}\n",
      "{'count': 0, 'items': [95, 72, 78], 'rand1': 'old', 'op': '+', 'rand2': 7, 'divider': 11, 'jump_true': 7, 'jump_false': 6}\n",
      "{'count': 0, 'items': [76], 'rand1': 'old', 'op': '+', 'rand2': 8, 'divider': 17, 'jump_true': 0, 'jump_false': 2}\n",
      "{'count': 0, 'items': [69, 60, 53, 89, 71, 88], 'rand1': 'old', 'op': '+', 'rand2': 5, 'divider': 19, 'jump_true': 7, 'jump_false': 1}\n",
      "{'count': 0, 'items': [72, 54, 63, 80], 'rand1': 'old', 'op': '+', 'rand2': 3, 'divider': 7, 'jump_true': 1, 'jump_false': 3}\n",
      "[19740, 173779, 172846, 45078, 179649, 178458, 174108, 6215]\n",
      "32059801242\n"
     ]
    }
   ],
   "source": [
    "part2('inputs/day11.txt')"
   ]
  },
  {
   "cell_type": "code",
   "execution_count": null,
   "metadata": {},
   "outputs": [],
   "source": []
  }
 ],
 "metadata": {
  "kernelspec": {
   "display_name": "Test",
   "language": "python",
   "name": "python3"
  },
  "language_info": {
   "codemirror_mode": {
    "name": "ipython",
    "version": 3
   },
   "file_extension": ".py",
   "mimetype": "text/x-python",
   "name": "python",
   "nbconvert_exporter": "python",
   "pygments_lexer": "ipython3",
   "version": "3.12.2"
  }
 },
 "nbformat": 4,
 "nbformat_minor": 2
}
