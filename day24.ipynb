{
 "cells": [
  {
   "cell_type": "code",
   "execution_count": 78,
   "metadata": {},
   "outputs": [],
   "source": [
    "from utils import read_lines\n",
    "import math\n",
    "from collections import deque\n",
    "\n",
    "NO_WIND = 0\n",
    "NORTH = 1\n",
    "SOUTH = 2\n",
    "WEST = 4\n",
    "EAST = 8\n",
    "\n",
    "all_blizzard = [NORTH, SOUTH, WEST, EAST]\n",
    "\n",
    "char_to_v = {\n",
    "    '.': NO_WIND,\n",
    "    '<': WEST,\n",
    "    '>': EAST,\n",
    "    '^': NORTH,\n",
    "    'v': SOUTH,\n",
    "}\n",
    "\n",
    "deltas = [(-1, 0), (1, 0), (0, -1), (0, 1)]\n",
    "\n",
    "def valid_moves(m, n, i, j):\n",
    "    ans = [(i, j)]\n",
    "    for di, dj in deltas:\n",
    "        ni, nj = i + di, j + dj\n",
    "        if 0 <= ni < m and 0<= nj < n:\n",
    "            ans.append((ni, nj))\n",
    "    return ans\n",
    "\n",
    "def parse_input(input_file):\n",
    "    lines = read_lines(input_file)\n",
    "    matrix = []\n",
    "    for line in lines[1:-1]:\n",
    "        row = [char_to_v[c] for c in line[1:-1]]\n",
    "        matrix.append(row)\n",
    "    return matrix\n",
    "\n",
    "def flow(m, n, i, j, v):\n",
    "\n",
    "    match v:\n",
    "        case 1:\n",
    "            if i > 0:\n",
    "                i -= 1\n",
    "            else:\n",
    "                i = m - 1\n",
    "        case 2:\n",
    "            if i < m - 1:\n",
    "                i += 1\n",
    "            else:\n",
    "                i = 0\n",
    "        case 4:\n",
    "            if j > 0:\n",
    "                j -= 1\n",
    "            else:\n",
    "                j = n - 1\n",
    "        case 8:\n",
    "            if j < n - 1:\n",
    "                j += 1\n",
    "            else:\n",
    "                j = 0\n",
    "        case _:\n",
    "            raise ValueError(f'illegal blizzard value {v}')\n",
    "    return i, j\n",
    "\n",
    "def move_blizzard(matrix):\n",
    "    m = len(matrix)\n",
    "    n = len(matrix[0])\n",
    "    ans = [[0] * n for _ in range(m)]\n",
    "    for i, row in enumerate(matrix):\n",
    "        for j, v in enumerate(row):\n",
    "            for b in all_blizzard:\n",
    "                if v & b:\n",
    "                    ni, nj = flow(m, n, i, j, b)\n",
    "                    ans[ni][nj] |= b\n",
    "    return ans\n",
    "\n",
    "\n",
    "def calc_all_matrix(matrix):\n",
    "    ans = [matrix]\n",
    "    while True:\n",
    "        nm = move_blizzard(ans[-1])\n",
    "        if nm == matrix:\n",
    "            break\n",
    "        ans.append(nm)\n",
    "    return ans\n",
    "\n",
    "def part1(input_file):\n",
    "    matrix = parse_input(input_file)\n",
    "    m = len(matrix)\n",
    "    n = len(matrix[0])\n",
    "    \n",
    "    all_matrix = calc_all_matrix(matrix)\n",
    "    peroid = len(all_matrix)\n",
    "    start = (-1, 0)\n",
    "    end = (m-1, n-1)\n",
    "\n",
    "    seen = set([(start, 0)])\n",
    "    q = deque()\n",
    "    q.append(start)\n",
    "    turn = 0\n",
    "    while q:\n",
    "        cur_len = len(q)\n",
    "        turn += 1\n",
    "        mi = turn % peroid\n",
    "        mt = all_matrix[mi]\n",
    "        for _ in range(cur_len):\n",
    "            i, j = q.popleft()\n",
    "            for ni, nj in valid_moves(m, n, i, j):\n",
    "                if (ni, nj) == end:\n",
    "                    return turn + 1\n",
    "                if ((ni, nj), mi) not in seen and (ni == -1 or ni == m or mt[ni][nj] == 0):\n",
    "                    q.append((ni, nj))\n",
    "                    seen.add(((ni, nj), mi))\n",
    "\n",
    "\n",
    "def part2(input_file):\n",
    "    matrix = parse_input(input_file)\n",
    "    m = len(matrix)\n",
    "    n = len(matrix[0])\n",
    "    \n",
    "    all_matrix = calc_all_matrix(matrix)\n",
    "    peroid = len(all_matrix)\n",
    "\n",
    "    start = (-1, 0)\n",
    "    end = (m-1, n-1)\n",
    "    seen = set([(start, 0)])\n",
    "    q = deque()\n",
    "    q.append(start)\n",
    "    turn = 0\n",
    "    at_goal = False\n",
    "    while q and not at_goal:\n",
    "        cur_len = len(q)\n",
    "        turn += 1\n",
    "        mi = turn % peroid\n",
    "        mt = all_matrix[mi]\n",
    "        for _ in range(cur_len):\n",
    "            i, j = q.popleft()\n",
    "            for ni, nj in valid_moves(m, n, i, j):\n",
    "                if (ni, nj) == end:\n",
    "                    at_goal = True\n",
    "                    break\n",
    "                if ((ni, nj), mi) not in seen and (ni == -1 or ni == m or mt[ni][nj] == 0):\n",
    "                    q.append((ni, nj))\n",
    "                    seen.add(((ni, nj), mi))\n",
    "    \n",
    "    turn += 1\n",
    "    print(turn)\n",
    "\n",
    "    start = (m, n-1)\n",
    "    end = (0, 0)\n",
    "    seen = set([(start, turn%peroid)])\n",
    "    q = deque()\n",
    "    q.append(start)\n",
    "    at_goal = False\n",
    "    while q and not at_goal:\n",
    "        cur_len = len(q)\n",
    "        turn += 1\n",
    "        mi = turn % peroid\n",
    "        mt = all_matrix[mi]\n",
    "        for _ in range(cur_len):\n",
    "            i, j = q.popleft()\n",
    "            for ni, nj in valid_moves(m, n, i, j):\n",
    "                if (ni, nj) == end:\n",
    "                    at_goal = True\n",
    "                    break\n",
    "                if ((ni, nj), mi) not in seen and (ni == -1 or ni == m or mt[ni][nj] == 0):\n",
    "                    q.append((ni, nj))\n",
    "                    seen.add(((ni, nj), mi))\n",
    "    turn += 1\n",
    "    print(turn)\n",
    "\n",
    "    start = (-1, 0)\n",
    "    end = (m-1, n-1)\n",
    "    seen = set([(start, turn % peroid)])\n",
    "    q = deque()\n",
    "    q.append(start)\n",
    "    at_goal = False\n",
    "    while q and not at_goal:\n",
    "        cur_len = len(q)\n",
    "        turn += 1\n",
    "        mi = turn % peroid\n",
    "        mt = all_matrix[mi]\n",
    "        for _ in range(cur_len):\n",
    "            i, j = q.popleft()\n",
    "            for ni, nj in valid_moves(m, n, i, j):\n",
    "                if (ni, nj) == end:\n",
    "                    at_goal = True\n",
    "                    break\n",
    "                if ((ni, nj), mi) not in seen and (ni == -1 or ni == m or mt[ni][nj] == 0):\n",
    "                    q.append((ni, nj))\n",
    "                    seen.add(((ni, nj), mi))\n",
    "    turn += 1\n",
    "    return turn"
   ]
  },
  {
   "cell_type": "code",
   "execution_count": 72,
   "metadata": {},
   "outputs": [
    {
     "data": {
      "text/plain": [
       "18"
      ]
     },
     "execution_count": 72,
     "metadata": {},
     "output_type": "execute_result"
    }
   ],
   "source": [
    "part1('inputs/day24_test.txt')"
   ]
  },
  {
   "cell_type": "code",
   "execution_count": 71,
   "metadata": {},
   "outputs": [
    {
     "data": {
      "text/plain": [
       "308"
      ]
     },
     "execution_count": 71,
     "metadata": {},
     "output_type": "execute_result"
    }
   ],
   "source": [
    "part1('inputs/day24.txt') + 1 # why need +1 here?"
   ]
  },
  {
   "cell_type": "code",
   "execution_count": 79,
   "metadata": {},
   "outputs": [
    {
     "name": "stdout",
     "output_type": "stream",
     "text": [
      "18\n",
      "40\n"
     ]
    },
    {
     "data": {
      "text/plain": [
       "54"
      ]
     },
     "execution_count": 79,
     "metadata": {},
     "output_type": "execute_result"
    }
   ],
   "source": [
    "part2('inputs/day24_test.txt')"
   ]
  },
  {
   "cell_type": "code",
   "execution_count": 80,
   "metadata": {},
   "outputs": [
    {
     "name": "stdout",
     "output_type": "stream",
     "text": [
      "307\n",
      "598\n"
     ]
    },
    {
     "data": {
      "text/plain": [
       "908"
      ]
     },
     "execution_count": 80,
     "metadata": {},
     "output_type": "execute_result"
    }
   ],
   "source": [
    "part2('inputs/day24.txt') + 1 "
   ]
  },
  {
   "cell_type": "code",
   "execution_count": null,
   "metadata": {},
   "outputs": [],
   "source": []
  }
 ],
 "metadata": {
  "kernelspec": {
   "display_name": "Test",
   "language": "python",
   "name": "python3"
  },
  "language_info": {
   "codemirror_mode": {
    "name": "ipython",
    "version": 3
   },
   "file_extension": ".py",
   "mimetype": "text/x-python",
   "name": "python",
   "nbconvert_exporter": "python",
   "pygments_lexer": "ipython3",
   "version": "3.12.2"
  }
 },
 "nbformat": 4,
 "nbformat_minor": 2
}
