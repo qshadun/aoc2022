{
 "cells": [
  {
   "cell_type": "code",
   "execution_count": 2,
   "metadata": {},
   "outputs": [],
   "source": [
    "def part1(input_file):\n",
    "    ans = 0\n",
    "    for line in open(input_file):\n",
    "        line = line.strip()\n",
    "        p1, p2 = line.split(',')\n",
    "        l1, u1 = [int(x) for x in p1.split('-')]\n",
    "        l2, u2 = [int(x) for x in p2.split('-')]\n",
    "        if l1 >= l2 and u1 <= u2 or l2 >= l1 and u2 <= u1:\n",
    "            ans += 1\n",
    "    return ans"
   ]
  },
  {
   "cell_type": "code",
   "execution_count": 5,
   "metadata": {},
   "outputs": [
    {
     "data": {
      "text/plain": [
       "534"
      ]
     },
     "execution_count": 5,
     "metadata": {},
     "output_type": "execute_result"
    }
   ],
   "source": [
    "part1('inputs/day4.txt')"
   ]
  },
  {
   "cell_type": "code",
   "execution_count": 6,
   "metadata": {},
   "outputs": [],
   "source": [
    "def part2(input_file):\n",
    "    ans = 0\n",
    "    for line in open(input_file):\n",
    "        line = line.strip()\n",
    "        p1, p2 = line.split(',')\n",
    "        l1, u1 = [int(x) for x in p1.split('-')]\n",
    "        l2, u2 = [int(x) for x in p2.split('-')]\n",
    "        if l1 <= u2 and l2 <= u1:\n",
    "            ans += 1\n",
    "    return ans"
   ]
  },
  {
   "cell_type": "code",
   "execution_count": 9,
   "metadata": {},
   "outputs": [
    {
     "data": {
      "text/plain": [
       "841"
      ]
     },
     "execution_count": 9,
     "metadata": {},
     "output_type": "execute_result"
    }
   ],
   "source": [
    "part2('inputs/day4.txt')"
   ]
  },
  {
   "cell_type": "code",
   "execution_count": null,
   "metadata": {},
   "outputs": [],
   "source": []
  }
 ],
 "metadata": {
  "kernelspec": {
   "display_name": "Test",
   "language": "python",
   "name": "python3"
  },
  "language_info": {
   "codemirror_mode": {
    "name": "ipython",
    "version": 3
   },
   "file_extension": ".py",
   "mimetype": "text/x-python",
   "name": "python",
   "nbconvert_exporter": "python",
   "pygments_lexer": "ipython3",
   "version": "3.11.5"
  }
 },
 "nbformat": 4,
 "nbformat_minor": 2
}
