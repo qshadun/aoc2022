{
 "cells": [
  {
   "cell_type": "code",
   "execution_count": 5,
   "metadata": {},
   "outputs": [],
   "source": [
    "from utils import read_lines\n",
    "import re\n",
    "from collections import deque\n",
    "\n",
    "RE = re.compile(r'Valve (\\w\\w) .*rate=(\\d+);.* valves? (.*)')\n",
    "\n",
    "def parse_line(line):\n",
    "    m = RE.match(line)\n",
    "    node = m.group(1)\n",
    "    rate = int(m.group(2))\n",
    "    dest = m.group(3).split(', ')\n",
    "    return node, rate, dest\n",
    "\n",
    "def parse_input(input_file):\n",
    "    lines = read_lines(input_file)\n",
    "    rates = {}\n",
    "    graph = {}\n",
    "    for line in lines:\n",
    "        node, rate, dest = parse_line(line)\n",
    "        rates[node] = rate\n",
    "        graph[node] = dest\n",
    "    return rates, graph\n",
    "\n",
    "def shorted_path(graph):\n",
    "    ans = {}\n",
    "    for start in graph:\n",
    "        dist = {}\n",
    "        q = deque([start])\n",
    "        steps = 0\n",
    "        while q and len(dist) < len(graph):\n",
    "            cur_len = len(q)\n",
    "            for _ in range(cur_len):\n",
    "                node = q.popleft()\n",
    "                dist[node] = steps\n",
    "                for next_node in graph[node]:\n",
    "                    if next_node not in dist:\n",
    "                        q.append(next_node)\n",
    "            steps += 1\n",
    "        ans[start] = dist\n",
    "    return ans"
   ]
  },
  {
   "cell_type": "code",
   "execution_count": 2,
   "metadata": {},
   "outputs": [],
   "source": [
    "from functools import cache\n",
    "\n",
    "def part1(input_file):\n",
    "    rates, graph = parse_input(input_file)\n",
    "    min_moves = shorted_path(graph)\n",
    "    # print(rates)\n",
    "    # print(graph)\n",
    "    # print(min_moves)\n",
    "    value_nodes = {x for x, v in rates.items() if v > 0}\n",
    "    ans = 0\n",
    "    \n",
    "    def backtrack(cur_node, opened_value, turn, cur_score):\n",
    "        nonlocal ans\n",
    "        if turn >= 30:\n",
    "            ans = max(ans, cur_score)\n",
    "            return\n",
    "        if not value_nodes:\n",
    "            ans = max(ans, cur_score + opened_value * (30 - turn))\n",
    "            return\n",
    "        for node in value_nodes:\n",
    "            to_open =  min_moves[cur_node][node] + 1\n",
    "            if turn + to_open < 30:\n",
    "                value_nodes.remove(node)\n",
    "                cur_score += opened_value * to_open\n",
    "                opened_value += rates[node]\n",
    "                backtrack(node, opened_value, turn+to_open, cur_score)\n",
    "                value_nodes.add(node)\n",
    "                opened_value -= rates[node]\n",
    "                cur_score -= opened_value * to_open\n",
    "            else:\n",
    "                ans = max(ans, cur_score + opened_value * (30 - turn))\n",
    "    backtrack('AA', 0, 0, 0)\n",
    "    return ans"
   ]
  },
  {
   "cell_type": "code",
   "execution_count": 6,
   "metadata": {},
   "outputs": [
    {
     "data": {
      "text/plain": [
       "1460"
      ]
     },
     "execution_count": 6,
     "metadata": {},
     "output_type": "execute_result"
    }
   ],
   "source": [
    "part1('inputs/day16.txt')"
   ]
  },
  {
   "cell_type": "code",
   "execution_count": 7,
   "metadata": {},
   "outputs": [
    {
     "data": {
      "text/plain": [
       "1651"
      ]
     },
     "execution_count": 7,
     "metadata": {},
     "output_type": "execute_result"
    }
   ],
   "source": [
    "part1('inputs/day16_test.txt')"
   ]
  },
  {
   "cell_type": "code",
   "execution_count": 22,
   "metadata": {},
   "outputs": [],
   "source": [
    "def max_score(rates, min_moves, nodes, max_turn):\n",
    "    ans = 0\n",
    "    \n",
    "    def calc_score(path):\n",
    "        ans = 0\n",
    "        for valve, day in path:\n",
    "            ans += rates[valve] * (max_turn - day)\n",
    "        return ans\n",
    "    \n",
    "    def backtrack(path):\n",
    "        nonlocal ans\n",
    "        if not nodes:\n",
    "            score = calc_score(path)\n",
    "            ans = max(ans, score)\n",
    "            return\n",
    "        found_new_values = False\n",
    "        for node in nodes:\n",
    "            cur_node, day = path[-1]\n",
    "            open_day = day + min_moves[cur_node][node] + 1\n",
    "            if open_day < max_turn:\n",
    "                path.append((node, open_day))\n",
    "                nodes.remove(node)\n",
    "                found_new_values = True\n",
    "                backtrack(path)\n",
    "                path.pop()\n",
    "                nodes.add(node)\n",
    "            \n",
    "        if not found_new_values:\n",
    "            score = calc_score(path)\n",
    "            ans = max(ans, score)\n",
    "            return\n",
    "\n",
    "    backtrack([('AA', 0)])\n",
    "    return ans\n",
    "\n",
    "def part1_1(input_file):\n",
    "    rates, graph = parse_input(input_file)\n",
    "    min_moves = shorted_path(graph)\n",
    "    # print(rates)\n",
    "    # print(graph)\n",
    "    # print(min_moves)\n",
    "    nodes = {x for x, v in rates.items() if v > 0}\n",
    "    max_turn = 30\n",
    "    return max_score(rates, min_moves, nodes, max_turn)\n",
    "\n",
    "# wrong answer\n",
    "def part2(input_file):\n",
    "    rates, graph = parse_input(input_file)\n",
    "    min_moves = shorted_path(graph)\n",
    "    # print(rates)\n",
    "    # print(graph)\n",
    "    # print(min_moves)\n",
    "    nodes = {x for x, v in rates.items() if v > 0}\n",
    "    max_turn = 26\n",
    "    ans = 0\n",
    "    \n",
    "    def calc_score(path):\n",
    "        ans = 0\n",
    "        for valve, day in path:\n",
    "            ans += rates[valve] * (max_turn - day)\n",
    "        return ans\n",
    "    \n",
    "    def backtrack(path1, path2):\n",
    "        nonlocal ans\n",
    "        if not nodes:\n",
    "            score = calc_score(path1) + calc_score(path2)\n",
    "            ans = max(ans, score)\n",
    "            return\n",
    "        found_new_values = False\n",
    "        for node in nodes:\n",
    "            cur_node, day = path1[-1]\n",
    "            open_day = day + min_moves[cur_node][node] + 1\n",
    "            if open_day < max_turn:\n",
    "                path1.append((node, open_day))\n",
    "                nodes.remove(node)\n",
    "                found_new_values = True\n",
    "                if open_day < path2[-1][1]:\n",
    "                    backtrack(path1, path2)\n",
    "                else:\n",
    "                    backtrack(path2, path1)\n",
    "                path1.pop()\n",
    "                nodes.add(node)\n",
    "            \n",
    "        if not found_new_values:\n",
    "            score = calc_score(path1) + calc_score(path2)\n",
    "            ans = max(ans, score)\n",
    "            return\n",
    "       \n",
    "\n",
    "    backtrack([('AA', 0)], [('AA', 0)])\n",
    "    return ans"
   ]
  },
  {
   "cell_type": "code",
   "execution_count": 24,
   "metadata": {},
   "outputs": [
    {
     "data": {
      "text/plain": [
       "1651"
      ]
     },
     "execution_count": 24,
     "metadata": {},
     "output_type": "execute_result"
    }
   ],
   "source": [
    "part1_1('inputs/day16_test.txt')"
   ]
  },
  {
   "cell_type": "code",
   "execution_count": 33,
   "metadata": {},
   "outputs": [],
   "source": [
    "from itertools import combinations\n",
    "def part2_2(input_file):\n",
    "    rates, graph = parse_input(input_file)\n",
    "    min_moves = shorted_path(graph)\n",
    "    # print(rates)\n",
    "    # print(graph)\n",
    "    # print(min_moves)\n",
    "    nodes = [x for x, v in rates.items() if v > 0]\n",
    "    \n",
    "    max_turn = 26\n",
    "    half = len(nodes) // 2\n",
    "    ans = 0\n",
    "    for cm in combinations(nodes, half):\n",
    "        p1 = set(cm)\n",
    "        p2 = {x for x in nodes if x not in p1}\n",
    "        score = max_score(rates, min_moves, p1, max_turn) + max_score(rates, min_moves, p2, max_turn)\n",
    "        ans = max(ans, score)\n",
    "    return ans"
   ]
  },
  {
   "cell_type": "code",
   "execution_count": 35,
   "metadata": {},
   "outputs": [
    {
     "data": {
      "text/plain": [
       "2117"
      ]
     },
     "execution_count": 35,
     "metadata": {},
     "output_type": "execute_result"
    }
   ],
   "source": [
    "part2_2('inputs/day16.txt')"
   ]
  },
  {
   "cell_type": "code",
   "execution_count": null,
   "metadata": {},
   "outputs": [],
   "source": []
  }
 ],
 "metadata": {
  "kernelspec": {
   "display_name": "Test",
   "language": "python",
   "name": "python3"
  },
  "language_info": {
   "codemirror_mode": {
    "name": "ipython",
    "version": 3
   },
   "file_extension": ".py",
   "mimetype": "text/x-python",
   "name": "python",
   "nbconvert_exporter": "python",
   "pygments_lexer": "ipython3",
   "version": "3.9.13"
  }
 },
 "nbformat": 4,
 "nbformat_minor": 2
}
