{
 "cells": [
  {
   "cell_type": "code",
   "execution_count": 35,
   "metadata": {},
   "outputs": [],
   "source": [
    "from utils import read_lines\n",
    "import re\n",
    "from collections import deque\n",
    "\n",
    "RE = re.compile(r'Valve (\\w\\w) .*rate=(\\d+);.* valves? (.*+)')\n",
    "\n",
    "def parse_line(line):\n",
    "    m = RE.match(line)\n",
    "    node = m.group(1)\n",
    "    rate = int(m.group(2))\n",
    "    dest = m.group(3).split(', ')\n",
    "    return node, rate, dest\n",
    "\n",
    "def parse_input(input_file):\n",
    "    lines = read_lines(input_file)\n",
    "    rates = {}\n",
    "    graph = {}\n",
    "    for line in lines:\n",
    "        node, rate, dest = parse_line(line)\n",
    "        rates[node] = rate\n",
    "        graph[node] = dest\n",
    "    return rates, graph\n",
    "\n",
    "def shorted_path(graph):\n",
    "    ans = {}\n",
    "    for start in graph:\n",
    "        dist = {}\n",
    "        q = deque([start])\n",
    "        steps = 0\n",
    "        while q and len(dist) < len(graph):\n",
    "            cur_len = len(q)\n",
    "            for _ in range(cur_len):\n",
    "                node = q.popleft()\n",
    "                dist[node] = steps\n",
    "                for next_node in graph[node]:\n",
    "                    if next_node not in dist:\n",
    "                        q.append(next_node)\n",
    "            steps += 1\n",
    "        ans[start] = dist\n",
    "    return ans"
   ]
  },
  {
   "cell_type": "code",
   "execution_count": 82,
   "metadata": {},
   "outputs": [],
   "source": [
    "from functools import cache\n",
    "\n",
    "def part1(input_file):\n",
    "    rates, graph = parse_input(input_file)\n",
    "    min_moves = shorted_path(graph)\n",
    "    # print(rates)\n",
    "    # print(graph)\n",
    "    # print(min_moves)\n",
    "    value_nodes = {x for x, v in rates.items() if v > 0}\n",
    "    ans = 0\n",
    "    \n",
    "    def backtrack(cur_node, opened_value, turn, cur_score):\n",
    "        nonlocal ans\n",
    "        if turn >= 30:\n",
    "            ans = max(ans, cur_score)\n",
    "            return\n",
    "        if not value_nodes:\n",
    "            ans = max(ans, cur_score + opened_value * (30 - turn))\n",
    "            return\n",
    "        for node in value_nodes:\n",
    "            to_open =  min_moves[cur_node][node] + 1\n",
    "            if turn + to_open < 30:\n",
    "                value_nodes.remove(node)\n",
    "                cur_score += opened_value * to_open\n",
    "                opened_value += rates[node]\n",
    "                backtrack(node, opened_value, turn+to_open, cur_score)\n",
    "                value_nodes.add(node)\n",
    "                opened_value -= rates[node]\n",
    "                cur_score -= opened_value * to_open\n",
    "            else:\n",
    "                ans = max(ans, cur_score + opened_value * (30 - turn))\n",
    "\n",
    "\n",
    "    backtrack('AA', 0, 0, 0)\n",
    "    return ans\n",
    "\n",
    "\n",
    "    "
   ]
  },
  {
   "cell_type": "code",
   "execution_count": 83,
   "metadata": {},
   "outputs": [
    {
     "data": {
      "text/plain": [
       "1460"
      ]
     },
     "execution_count": 83,
     "metadata": {},
     "output_type": "execute_result"
    }
   ],
   "source": [
    "part1('inputs/day16.txt')"
   ]
  },
  {
   "cell_type": "code",
   "execution_count": 84,
   "metadata": {},
   "outputs": [
    {
     "data": {
      "text/plain": [
       "1651"
      ]
     },
     "execution_count": 84,
     "metadata": {},
     "output_type": "execute_result"
    }
   ],
   "source": [
    "part1('inputs/day16_test.txt')"
   ]
  },
  {
   "cell_type": "code",
   "execution_count": 103,
   "metadata": {},
   "outputs": [],
   "source": [
    "def part2(input_file):\n",
    "    rates, graph = parse_input(input_file)\n",
    "    min_moves = shorted_path(graph)\n",
    "    # print(rates)\n",
    "    # print(graph)\n",
    "    # print(min_moves)\n",
    "    value_nodes = {x for x, v in rates.items() if v > 0}\n",
    "    MAX_TURN = 26\n",
    "    best_score = 0\n",
    "    remain_valves = set() \n",
    "    def backtrack(cur_node, opened_value, turn, cur_score):\n",
    "        nonlocal best_score\n",
    "        nonlocal remain_valves\n",
    "        if turn >= MAX_TURN:\n",
    "            if cur_score > best_score:\n",
    "                best_score = cur_score\n",
    "                remain_valves = {x for x in value_nodes}\n",
    "            return\n",
    "        if not value_nodes:\n",
    "            best_score = max(best_score, cur_score + opened_value * (MAX_TURN - turn))\n",
    "            remain_valves = set()\n",
    "            return\n",
    "        for node in value_nodes:\n",
    "            to_open =  min_moves[cur_node][node] + 1\n",
    "            if turn + to_open < MAX_TURN:\n",
    "                value_nodes.remove(node)\n",
    "                cur_score += opened_value * to_open\n",
    "                opened_value += rates[node]\n",
    "                backtrack(node, opened_value, turn+to_open, cur_score)\n",
    "                value_nodes.add(node)\n",
    "                opened_value -= rates[node]\n",
    "                cur_score -= opened_value * to_open\n",
    "            else:\n",
    "                best_score = max(best_score, cur_score + opened_value * (MAX_TURN - turn))\n",
    "                remain_valves = {x for x in value_nodes}\n",
    "\n",
    "\n",
    "    backtrack('AA', 0, 0, 0)\n",
    "    return best_score, remain_valves"
   ]
  },
  {
   "cell_type": "code",
   "execution_count": 104,
   "metadata": {},
   "outputs": [
    {
     "data": {
      "text/plain": [
       "(1125, {'AM', 'DB', 'FP', 'GU', 'KT', 'OG', 'OX', 'XN', 'YK', 'YS', 'ZR'})"
      ]
     },
     "execution_count": 104,
     "metadata": {},
     "output_type": "execute_result"
    }
   ],
   "source": [
    "part2('inputs/day16.txt')"
   ]
  },
  {
   "cell_type": "code",
   "execution_count": null,
   "metadata": {},
   "outputs": [],
   "source": []
  }
 ],
 "metadata": {
  "kernelspec": {
   "display_name": "Test",
   "language": "python",
   "name": "python3"
  },
  "language_info": {
   "codemirror_mode": {
    "name": "ipython",
    "version": 3
   },
   "file_extension": ".py",
   "mimetype": "text/x-python",
   "name": "python",
   "nbconvert_exporter": "python",
   "pygments_lexer": "ipython3",
   "version": "3.12.2"
  }
 },
 "nbformat": 4,
 "nbformat_minor": 2
}
