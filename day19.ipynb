{
 "cells": [
  {
   "cell_type": "code",
   "execution_count": 15,
   "metadata": {},
   "outputs": [],
   "source": [
    "from utils import read_lines\n",
    "import re\n",
    "\n",
    "from functools import cache\n",
    "\n",
    "    \n",
    "class BluePrint:\n",
    "    def __init__(self, id, ore_bot, clay_bot, obsidian_bot, geode_bot):\n",
    "        self.id = id\n",
    "        self.ore_bot = ore_bot\n",
    "        self.clay_bot = clay_bot\n",
    "        self.obsidian_bot = obsidian_bot\n",
    "        self.geode_bot = geode_bot\n",
    "        self.max_ore_bot = max(self.clay_bot, self.obsidian_bot[0], self.geode_bot[0])\n",
    "        self.max_clay_bot = self.obsidian_bot[1]\n",
    "        self.max_obsidian_bot = self.geode_bot[1]\n",
    "        self.limit = 24\n",
    "        self.cur_max = 0\n",
    "\n",
    "    def __repr__(self):\n",
    "        return f'BluePrint({self.id=}, {self.ore_bot=}, {self.clay_bot=}, {self.obsidian_bot=}, {self.geode_bot=})'\n",
    "    \n",
    "    def theoritical_max(self, resources, bots, day):\n",
    "        return resources[3] + bots[3] * (self.limit - day) + sum(range(1, self.limit - day))\n",
    "    \n",
    "    @cache\n",
    "    def recur(self, resources, bots, day, ignored=()):\n",
    "        if day == self.limit:\n",
    "            self.cur_max = max(self.cur_max, resources[3])\n",
    "            return\n",
    "        \n",
    "        if self.theoritical_max(resources, bots, day) < self.cur_max:\n",
    "            return\n",
    "        if resources[0] >= self.geode_bot[0] and resources[2] >= self.geode_bot[1]:\n",
    "            resources1 = [resources[0] - self.geode_bot[0], resources[1], resources[2] - self.geode_bot[1], resources[3]]\n",
    "            resources1 = tuple([resources1[i] + bots[i] for i in range(4)])\n",
    "            bots1 = (bots[0], bots[1], bots[2], bots[3] + 1)\n",
    "            return self.recur(resources1, bots1, day + 1)\n",
    "        \n",
    "        \n",
    "        options = []\n",
    "        if day >= self.limit - 1:\n",
    "            options = []\n",
    "        else:\n",
    "            if bots[2] < self.max_obsidian_bot and resources[0] >= self.obsidian_bot[0] and resources[1] >= self.obsidian_bot[1] and 'obsidian_bot' not in ignored:\n",
    "                options.append('obsidian_bot')\n",
    "            elif not bots[2] and bots[0] < self.max_ore_bot and bots[1] < 4 and resources[0] >= self.ore_bot and 'ore_bot' not in ignored:\n",
    "                options.append('ore_bot')\n",
    "            if not bots[3] and bots[1] < self.max_clay_bot and bots[2] < 4 and resources[0] >= self.clay_bot and 'clay_bot' not in ignored:\n",
    "                options.append('clay_bot')\n",
    "            \n",
    "\n",
    "        resources1 = [resources[i] + bots[i] for i in range(4)]\n",
    "    \n",
    "        self.recur(tuple(resources1), bots, day + 1, tuple(options))  # produce no bot\n",
    "\n",
    "        for opt in options:\n",
    "            if opt == 'obsidian_bot':\n",
    "                resources2 = (resources1[0] - self.obsidian_bot[0], resources1[1] - self.obsidian_bot[1], resources1[2], resources1[3])\n",
    "                bots1 = (bots[0], bots[1], bots[2] + 1, bots[3])\n",
    "                self.recur(resources2, bots1, day + 1)\n",
    "            elif opt == 'clay_bot':\n",
    "                resources2 = (resources1[0] - self.clay_bot, resources1[1], resources1[2], resources1[3])\n",
    "                bots1 = (bots[0], bots[1] + 1, bots[2], bots[3])\n",
    "                self.recur(resources2, bots1, day + 1)\n",
    "            elif opt == 'ore_bot':\n",
    "                resources2 = (resources1[0] - self.ore_bot, resources1[1], resources1[2], resources1[3])\n",
    "                bots1 = (bots[0] + 1, bots[1], bots[2], bots[3])\n",
    "                self.recur(resources2, bots1, day + 1)\n",
    "\n",
    "\n",
    "re_line = re.compile(r'.* (\\d+):.* (\\d+) .* (\\d+) .* (\\d+) .* (\\d+) .* (\\d+) .* (\\d+) .*')\n",
    "def parse_line(line):\n",
    "    m = re_line.match(line)\n",
    "    gs = [int(x) for x in m.groups()]\n",
    "    return BluePrint(gs[0], gs[1], gs[2], (gs[3], gs[4]), (gs[5], gs[6]))\n",
    "\n",
    "class Game:\n",
    "    def __init__(self, blue_print):\n",
    "        self.blue_print = blue_print\n",
    "        self.resources = [0] * 4\n",
    "        self.bots = [0] * 4\n",
    "\n",
    "def part1(input_file):\n",
    "    lines = read_lines(input_file)\n",
    "    ans = 0\n",
    "    for line in lines:\n",
    "        bp = parse_line(line)\n",
    "        bp.limit = 24\n",
    "        bp.recur((0, 0, 0, 0), (1, 0, 0, 0), 0)\n",
    "        ans += bp.id * bp.cur_max\n",
    "    return ans\n",
    "\n",
    "def part2(input_file):\n",
    "    lines = read_lines(input_file)[:3]\n",
    "    ans = 1\n",
    "    for line in lines:\n",
    "        bp = parse_line(line)\n",
    "        bp.limit = 32\n",
    "        bp.recur((0, 0, 0, 0), (1, 0, 0, 0), 0)\n",
    "        ans *= bp.cur_max\n",
    "    return ans"
   ]
  },
  {
   "cell_type": "code",
   "execution_count": 12,
   "metadata": {},
   "outputs": [
    {
     "data": {
      "text/plain": [
       "9"
      ]
     },
     "execution_count": 12,
     "metadata": {},
     "output_type": "execute_result"
    }
   ],
   "source": [
    "lines = read_lines('inputs/day19_test.txt')\n",
    "bp = parse_line(lines[0])\n",
    "bp.recur((0, 0, 0, 0), (1, 0, 0,0), 0)\n",
    "bp.cur_max"
   ]
  },
  {
   "cell_type": "code",
   "execution_count": 13,
   "metadata": {},
   "outputs": [
    {
     "data": {
      "text/plain": [
       "33"
      ]
     },
     "execution_count": 13,
     "metadata": {},
     "output_type": "execute_result"
    }
   ],
   "source": [
    "part1(\"inputs/day19_test.txt\")"
   ]
  },
  {
   "cell_type": "code",
   "execution_count": 10,
   "metadata": {},
   "outputs": [
    {
     "data": {
      "text/plain": [
       "1659"
      ]
     },
     "execution_count": 10,
     "metadata": {},
     "output_type": "execute_result"
    }
   ],
   "source": [
    "part1(\"inputs/day19.txt\")"
   ]
  },
  {
   "cell_type": "code",
   "execution_count": 17,
   "metadata": {},
   "outputs": [
    {
     "data": {
      "text/plain": [
       "3472"
      ]
     },
     "execution_count": 17,
     "metadata": {},
     "output_type": "execute_result"
    }
   ],
   "source": [
    "part2(\"inputs/day19_test.txt\")"
   ]
  },
  {
   "cell_type": "code",
   "execution_count": 16,
   "metadata": {},
   "outputs": [
    {
     "data": {
      "text/plain": [
       "6804"
      ]
     },
     "execution_count": 16,
     "metadata": {},
     "output_type": "execute_result"
    }
   ],
   "source": [
    "part2(\"inputs/day19.txt\")"
   ]
  },
  {
   "cell_type": "code",
   "execution_count": null,
   "metadata": {},
   "outputs": [],
   "source": []
  }
 ],
 "metadata": {
  "kernelspec": {
   "display_name": "base",
   "language": "python",
   "name": "python3"
  },
  "language_info": {
   "codemirror_mode": {
    "name": "ipython",
    "version": 3
   },
   "file_extension": ".py",
   "mimetype": "text/x-python",
   "name": "python",
   "nbconvert_exporter": "python",
   "pygments_lexer": "ipython3",
   "version": "3.9.13"
  }
 },
 "nbformat": 4,
 "nbformat_minor": 2
}
