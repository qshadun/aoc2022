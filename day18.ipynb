{
 "cells": [
  {
   "cell_type": "code",
   "execution_count": 4,
   "metadata": {},
   "outputs": [],
   "source": [
    "from utils import read_lines\n",
    "from collections import defaultdict\n",
    "\n",
    "def parse_input(input_file):\n",
    "    ans = []\n",
    "    for line in read_lines(input_file):\n",
    "        x, y, z = line.split(',')\n",
    "        ans.append((int(x), int(y), int(z)))\n",
    "    return ans\n",
    "\n",
    "def count_hides(xy):\n",
    "    ans = 0\n",
    "    for _, zs in xy.items():\n",
    "        zs.sort()\n",
    "        for i in range(0, len(zs) - 1):\n",
    "            if zs[i + 1] - zs[i] == 1:\n",
    "                ans += 2\n",
    "    return ans\n",
    "\n",
    "def part1(input_file):\n",
    "    coords = parse_input(input_file)\n",
    "    xy, xz, yz = defaultdict(list), defaultdict(list), defaultdict(list)\n",
    "    for x, y, z in coords:\n",
    "        xy[(x, y)].append(z)\n",
    "        xz[(x, z)].append(y)\n",
    "        yz[(y, z)].append(x)\n",
    "    ans = len(coords) * 6\n",
    "    ans -= count_hides(xy)\n",
    "    ans -= count_hides(xz)\n",
    "    ans -= count_hides(yz)\n",
    "    return ans\n",
    "    "
   ]
  },
  {
   "cell_type": "code",
   "execution_count": 6,
   "metadata": {},
   "outputs": [
    {
     "data": {
      "text/plain": [
       "3564"
      ]
     },
     "execution_count": 6,
     "metadata": {},
     "output_type": "execute_result"
    }
   ],
   "source": [
    "part1('inputs/day18.txt')"
   ]
  },
  {
   "cell_type": "code",
   "execution_count": 40,
   "metadata": {},
   "outputs": [],
   "source": [
    "from collections import deque\n",
    "\n",
    "deltas = [[-1, 0, 0], [1, 0, 0], [0, -1, 0], [0, 1, 0], [0, 0, -1], [0, 0, 1]]\n",
    "def in_space(coord, min_out,max_out):\n",
    "    return all(min_out[i] <= coord[i] <= max_out[i] for i in range(3))\n",
    "\n",
    "def neightbors(coord, min_out, max_out):\n",
    "    x, y, z = coord\n",
    "    ans = [tuple([coord[i] + d[i] for i in range(3)]) for d in deltas]\n",
    "    ans = [c for c in ans if in_space(c, min_out, max_out)]\n",
    "    return ans\n",
    "\n",
    "def part2(input_file):\n",
    "    coords = parse_input(input_file)\n",
    "    coords = set(coords)\n",
    "    min_out = [min(c[i] - 1 for c in coords) for i in range(3)]\n",
    "    max_out = [max(c[i] + 1 for c in coords) for i in range(3)]\n",
    "    ans = 0\n",
    "    start = tuple(max_out)\n",
    "    q = deque([start])\n",
    "    seen = set()\n",
    "\n",
    "    while q:\n",
    "        cur = q.popleft()\n",
    "        if cur in coords:\n",
    "            ans += 1\n",
    "            continue\n",
    "        if cur not in seen:\n",
    "            seen.add(cur)\n",
    "            for nc in neightbors(cur, min_out, max_out):\n",
    "                q.append(nc)\n",
    "    return ans\n",
    "\n"
   ]
  },
  {
   "cell_type": "code",
   "execution_count": 42,
   "metadata": {},
   "outputs": [
    {
     "data": {
      "text/plain": [
       "2106"
      ]
     },
     "execution_count": 42,
     "metadata": {},
     "output_type": "execute_result"
    }
   ],
   "source": [
    "part2('inputs/day18.txt')"
   ]
  },
  {
   "cell_type": "code",
   "execution_count": null,
   "metadata": {},
   "outputs": [],
   "source": []
  }
 ],
 "metadata": {
  "kernelspec": {
   "display_name": "base",
   "language": "python",
   "name": "python3"
  },
  "language_info": {
   "codemirror_mode": {
    "name": "ipython",
    "version": 3
   },
   "file_extension": ".py",
   "mimetype": "text/x-python",
   "name": "python",
   "nbconvert_exporter": "python",
   "pygments_lexer": "ipython3",
   "version": "3.9.13"
  }
 },
 "nbformat": 4,
 "nbformat_minor": 2
}
