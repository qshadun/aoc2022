{
 "cells": [
  {
   "cell_type": "code",
   "execution_count": 21,
   "metadata": {},
   "outputs": [],
   "source": [
    "from utils import read_lines\n",
    "from collections import deque\n",
    "\n",
    "def parse_input(input_file):\n",
    "    lines = read_lines(input_file)\n",
    "    m = len(lines)\n",
    "    n = len(lines[0])\n",
    "    start = None\n",
    "    end = None\n",
    "    matrix = []\n",
    "    for i, line in enumerate(lines):\n",
    "        row = []\n",
    "        for j, c in enumerate(line):\n",
    "            if c == 'S':\n",
    "                start = (i, j)\n",
    "                c = 'a'\n",
    "            elif c == 'E':\n",
    "                end = (i, j)\n",
    "                c = 'z'\n",
    "            row.append(c)\n",
    "        matrix.append(row)\n",
    "    return matrix, start, end\n",
    "\n",
    "def get_moves(matrix, r, c):\n",
    "    moves = []\n",
    "    if r > 0 and ord(matrix[r - 1][c]) <= ord(matrix[r][c]) + 1:\n",
    "        moves.append((r - 1, c))\n",
    "    if r < len(matrix) - 1 and ord(matrix[r + 1][c]) <= ord(matrix[r][c]) + 1:\n",
    "        moves.append((r + 1, c))\n",
    "    if c > 0 and ord(matrix[r][c - 1]) <= ord(matrix[r][c]) + 1:\n",
    "        moves.append((r, c - 1))\n",
    "    if c < len(matrix[0]) - 1 and ord(matrix[r][c + 1]) <= ord(matrix[r][c]) + 1:\n",
    "        moves.append((r, c + 1))\n",
    "    return moves\n",
    "\n",
    "def part1(input_file):\n",
    "    matrix, start, end = parse_input(input_file)\n",
    "    return bfs(matrix, start, end)\n",
    "\n",
    "\n",
    "def bfs(matrix, start, end):\n",
    "    q = deque([start])\n",
    "    visited = set([start])\n",
    "    steps = 1\n",
    "    while q:\n",
    "        cur_len = len(q)\n",
    "        for _ in range(cur_len):\n",
    "            r, c = q.popleft()\n",
    "            for mov in get_moves(matrix, r, c):\n",
    "                if mov == end:\n",
    "                    return steps\n",
    "                if mov not in visited:\n",
    "                    q.append(mov)\n",
    "                    visited.add(mov)\n",
    "        steps += 1\n",
    "    return float('inf')\n"
   ]
  },
  {
   "cell_type": "code",
   "execution_count": 22,
   "metadata": {},
   "outputs": [
    {
     "data": {
      "text/plain": [
       "456"
      ]
     },
     "execution_count": 22,
     "metadata": {},
     "output_type": "execute_result"
    }
   ],
   "source": [
    "part1('inputs/day12.txt')"
   ]
  },
  {
   "cell_type": "code",
   "execution_count": 23,
   "metadata": {},
   "outputs": [],
   "source": [
    "def part2(input_file):\n",
    "    matrix, _, end = parse_input(input_file)\n",
    "    min_steps = float('inf')\n",
    "    for i, row in enumerate(matrix):\n",
    "        for j, c in enumerate(row):\n",
    "            if matrix[i][j] == 'a':\n",
    "                steps = bfs(matrix, (i, j), end)\n",
    "                min_steps = min(min_steps, steps)\n",
    "    return min_steps\n"
   ]
  },
  {
   "cell_type": "code",
   "execution_count": 24,
   "metadata": {},
   "outputs": [
    {
     "data": {
      "text/plain": [
       "454"
      ]
     },
     "execution_count": 24,
     "metadata": {},
     "output_type": "execute_result"
    }
   ],
   "source": [
    "part2('inputs/day12.txt')"
   ]
  },
  {
   "cell_type": "code",
   "execution_count": null,
   "metadata": {},
   "outputs": [],
   "source": []
  }
 ],
 "metadata": {
  "kernelspec": {
   "display_name": "Test",
   "language": "python",
   "name": "python3"
  },
  "language_info": {
   "codemirror_mode": {
    "name": "ipython",
    "version": 3
   },
   "file_extension": ".py",
   "mimetype": "text/x-python",
   "name": "python",
   "nbconvert_exporter": "python",
   "pygments_lexer": "ipython3",
   "version": "3.12.2"
  }
 },
 "nbformat": 4,
 "nbformat_minor": 2
}
