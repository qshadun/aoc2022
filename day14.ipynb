{
 "cells": [
  {
   "cell_type": "code",
   "execution_count": 1,
   "metadata": {},
   "outputs": [],
   "source": [
    "from utils import read_lines\n",
    "\n",
    "\n",
    "# 498,4 -> 498,6 -> 496,6\n",
    "def parse_line(line):\n",
    "    ans = []\n",
    "    parts = line.split(\" -> \")\n",
    "    for p in parts:\n",
    "        n1, n2 = p.split(\",\")\n",
    "        ans.append((int(n1), int(n2)))\n",
    "    return ans\n",
    "\n",
    "\n",
    "def parse_input(input_file):\n",
    "    lines = read_lines(input_file)\n",
    "    lines = [parse_line(line) for line in lines]\n",
    "    min_x = 2**32\n",
    "    max_x = -(2**32)\n",
    "    max_y = 0\n",
    "    for line in lines:\n",
    "        for x, y in line:\n",
    "            min_x = min(min_x, x)\n",
    "            max_x = max(max_x, x)\n",
    "            max_y = max(max_y, y)\n",
    "    print(f\"{min_x=}, {max_x=}, {max_y=}\")\n",
    "    m = max_y + 1\n",
    "    n = max_x - min_x + 1\n",
    "    matrix = [[\".\"] * n for _ in range(m)]\n",
    "    for line in lines:\n",
    "        for i in range(len(line) - 1):\n",
    "            x1, y1 = line[i]\n",
    "            x2, y2 = line[i + 1]\n",
    "            if x1 == x2:\n",
    "                x = x1 - min_x\n",
    "                y1, y2 = min(y1, y2), max(y1, y2)\n",
    "                for y in range(y1, y2 + 1):\n",
    "                    matrix[y][x] = \"#\"\n",
    "            else:\n",
    "                y = y1\n",
    "                x1, x2 = min(x1, x2), max(x1, x2)\n",
    "                for x in range(x1 - min_x, x2 - min_x + 1):\n",
    "                    matrix[y][x] = \"#\"\n",
    "    return matrix, 500 - min_x\n",
    "\n",
    "\n",
    "def drop(matrix, start_x):\n",
    "    m = len(matrix)\n",
    "    n = len(matrix[0])\n",
    "    x = start_x\n",
    "    y = 0\n",
    "    while True:\n",
    "        if y < m - 1 and matrix[y + 1][x] == \".\":\n",
    "            y += 1\n",
    "        elif x > 0 and y < m - 1 and matrix[y + 1][x - 1] == \".\":\n",
    "            x -= 1\n",
    "            y += 1\n",
    "        elif x < n - 1 and y < m - 1 and matrix[y + 1][x + 1] == \".\":\n",
    "            x += 1\n",
    "            y += 1\n",
    "        else:\n",
    "            break\n",
    "    if (\n",
    "        0 < x < n - 1\n",
    "        and y < m - 1\n",
    "        and matrix[y + 1][x - 1] != \".\"\n",
    "        and matrix[y + 1][x] != \".\"\n",
    "        and matrix[y + 1][x + 1] != \".\"\n",
    "    ):\n",
    "        matrix[y][x] = \"o\"\n",
    "        return True\n",
    "    else:\n",
    "        return False\n",
    "\n",
    "\n",
    "def print_matrix(matrix):\n",
    "    for row in matrix:\n",
    "        print(\"\".join(row))\n",
    "\n",
    "\n",
    "def part1(input_file):\n",
    "    matrix, start_x = parse_input(input_file)\n",
    "    # print(start_x)\n",
    "    # print_matrix(matrix)\n",
    "    ans = 0\n",
    "    while drop(matrix, start_x):\n",
    "        ans += 1\n",
    "        # print('-------')\n",
    "        # print_matrix(matrix)\n",
    "    return ans"
   ]
  },
  {
   "cell_type": "code",
   "execution_count": 2,
   "metadata": {},
   "outputs": [
    {
     "name": "stdout",
     "output_type": "stream",
     "text": [
      "min_x=488, max_x=552, max_y=157\n"
     ]
    },
    {
     "data": {
      "text/plain": [
       "719"
      ]
     },
     "execution_count": 2,
     "metadata": {},
     "output_type": "execute_result"
    }
   ],
   "source": [
    "part1('inputs/day14.txt')"
   ]
  },
  {
   "cell_type": "code",
   "execution_count": 3,
   "metadata": {},
   "outputs": [],
   "source": [
    "def parse_input2(input_file):\n",
    "    lines = read_lines(input_file)\n",
    "    lines = [parse_line(line) for line in lines]\n",
    "    \n",
    "    max_y = 0\n",
    "    for line in lines:\n",
    "        for x, y in line:\n",
    "            \n",
    "            max_y = max(max_y, y)\n",
    "    m = max_y + 1\n",
    "    n = 1000\n",
    "    matrix = [['.'] * n for _ in range(m)]\n",
    "    for line in lines:\n",
    "        for i in range(len(line) - 1):\n",
    "            x1, y1 = line[i]\n",
    "            x2, y2 = line[i + 1]\n",
    "            if x1 == x2:\n",
    "                x = x1\n",
    "                y1, y2 = min(y1, y2), max(y1, y2)\n",
    "                for y in range(y1, y2+1):\n",
    "                    matrix[y][x] = '#'\n",
    "            else:\n",
    "                y = y1\n",
    "                x1, x2 = min(x1, x2), max(x1, x2)\n",
    "                for x in range(x1, x2 + 1):\n",
    "                    matrix[y][x] = '#'\n",
    "    matrix.append(['.'] * n)\n",
    "    matrix.append(['#'] * n)\n",
    "    return matrix, 500\n",
    "\n",
    "def drop2(matrix, start_x):\n",
    "    m = len(matrix)\n",
    "    n = len(matrix[0])\n",
    "    x = start_x\n",
    "    y = 0\n",
    "    while True:\n",
    "        if y < m - 1 and matrix[y+1][x] == '.':\n",
    "            y += 1\n",
    "        elif x > 0 and y < m - 1 and matrix[y+1][x-1] == '.':\n",
    "            x -= 1\n",
    "            y += 1\n",
    "        elif x < n - 1 and y < m - 1 and matrix[y+1][x+1] == '.':\n",
    "            x += 1\n",
    "            y += 1\n",
    "        else:\n",
    "            break\n",
    "    matrix[y][x] = 'o'\n",
    "\n",
    "\n",
    "\n",
    "def part2(input_file):\n",
    "    matrix, start_x = parse_input2(input_file)\n",
    "    # print(start_x)\n",
    "    # print_matrix(matrix)\n",
    "    ans = 0\n",
    "    while matrix[0][start_x] != 'o':\n",
    "        drop(matrix, start_x)\n",
    "        ans += 1\n",
    "        # print('-------')\n",
    "        # print_matrix(matrix)\n",
    "    return ans"
   ]
  },
  {
   "cell_type": "code",
   "execution_count": 4,
   "metadata": {},
   "outputs": [
    {
     "data": {
      "text/plain": [
       "23390"
      ]
     },
     "execution_count": 4,
     "metadata": {},
     "output_type": "execute_result"
    }
   ],
   "source": [
    "part2('inputs/day14.txt')"
   ]
  },
  {
   "cell_type": "code",
   "execution_count": null,
   "metadata": {},
   "outputs": [],
   "source": []
  }
 ],
 "metadata": {
  "kernelspec": {
   "display_name": "Test",
   "language": "python",
   "name": "python3"
  },
  "language_info": {
   "codemirror_mode": {
    "name": "ipython",
    "version": 3
   },
   "file_extension": ".py",
   "mimetype": "text/x-python",
   "name": "python",
   "nbconvert_exporter": "python",
   "pygments_lexer": "ipython3",
   "version": "3.12.2"
  }
 },
 "nbformat": 4,
 "nbformat_minor": 2
}
