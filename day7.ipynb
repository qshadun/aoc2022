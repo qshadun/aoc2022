{
 "cells": [
  {
   "cell_type": "code",
   "execution_count": 42,
   "metadata": {},
   "outputs": [],
   "source": [
    "from utils import read_lines\n",
    "\n",
    "class Dir:\n",
    "    def __init__(self, parent, name):\n",
    "        self.parent = parent\n",
    "        self.name = name\n",
    "        if parent is None:\n",
    "            self.path = '/'\n",
    "        else:\n",
    "            self.path = f'{parent.path}{name}/'\n",
    "        self.child_dirs = {}\n",
    "        self.files = {}\n",
    "        self.size = None\n",
    "    \n",
    "    def __repr__(self):\n",
    "        f'd {self.path}'\n",
    "\n",
    "    def calc_size(self):\n",
    "        if self.size is None:\n",
    "            ans = 0\n",
    "            for child_dir in self.child_dirs.values():\n",
    "                ans += child_dir.calc_size()\n",
    "            for f in self.files.values():\n",
    "                ans += f.size\n",
    "            self.size = ans\n",
    "        return self.size\n",
    "\n",
    "\n",
    "class File:\n",
    "    def __init__(self, dir, name, size):\n",
    "        self.dir = dir\n",
    "        self.name = name\n",
    "        self.size = size\n",
    "        self.path = f'{dir.path}{name}'\n",
    "\n",
    "    def __repr__(self):\n",
    "        f'f {self.path}'\n",
    "\n",
    "root_dir = Dir(None, None)\n",
    "all_dirs = {'/': root_dir}\n",
    "all_files = {}\n",
    "\n",
    "def parse_input(input_file):\n",
    "    lines = read_lines(input_file)\n",
    "    i = 0\n",
    "    n = len(lines)\n",
    "    cur_dir = root_dir\n",
    "    while i < n:\n",
    "        line = lines[i]\n",
    "        parts = line.split(' ')\n",
    "        if parts[0] == '$':\n",
    "            cmd = parts[1]\n",
    "            if cmd == 'cd':\n",
    "                if parts[2] == '/':\n",
    "                    cur_dir = root_dir\n",
    "                elif parts[2] == '..':\n",
    "                    cur_dir = cur_dir.parent\n",
    "                else:\n",
    "                    cur_dir = cur_dir.child_dirs[parts[2]]\n",
    "                i += 1\n",
    "            else: # ls\n",
    "                j = i + 1\n",
    "                while j < n:\n",
    "                    parts = lines[j].split(' ')\n",
    "                    if parts[0] == '$':\n",
    "                        break\n",
    "                    elif parts[0] == 'dir':\n",
    "                        new_dir = Dir(cur_dir, parts[1])\n",
    "                        cur_dir.child_dirs[parts[1]] = new_dir\n",
    "                        all_dirs[new_dir.path] = new_dir\n",
    "                    else:\n",
    "                        new_file = File(cur_dir, parts[1], int(parts[0]))\n",
    "                        cur_dir.files[new_file.name] = new_file\n",
    "                        all_files[new_file.path] = new_file\n",
    "                    j += 1\n",
    "                i = j\n",
    "        else:\n",
    "            print('should not be here:', i, line)\n",
    "\n"
   ]
  },
  {
   "cell_type": "code",
   "execution_count": 43,
   "metadata": {},
   "outputs": [],
   "source": [
    "limit = 100000\n",
    "def part1(input_file):\n",
    "    parse_input(input_file)\n",
    "    root_dir.calc_size()\n",
    "    ans = 0\n",
    "    for dir in all_dirs.values():\n",
    "        if dir.calc_size() <= limit:\n",
    "            ans += dir.calc_size()\n",
    "    return ans"
   ]
  },
  {
   "cell_type": "code",
   "execution_count": 44,
   "metadata": {},
   "outputs": [
    {
     "data": {
      "text/plain": [
       "1915606"
      ]
     },
     "execution_count": 44,
     "metadata": {},
     "output_type": "execute_result"
    }
   ],
   "source": [
    "part1('inputs/day7.txt')"
   ]
  },
  {
   "cell_type": "code",
   "execution_count": null,
   "metadata": {},
   "outputs": [],
   "source": [
    "for k, v in all_dirs.items():\n",
    "    print(k, v.calc_size())"
   ]
  },
  {
   "cell_type": "code",
   "execution_count": null,
   "metadata": {},
   "outputs": [],
   "source": [
    "for k, v in all_files.items():\n",
    "    print(k, v.size)"
   ]
  },
  {
   "cell_type": "code",
   "execution_count": 51,
   "metadata": {},
   "outputs": [
    {
     "name": "stdout",
     "output_type": "stream",
     "text": [
      "5025657\n"
     ]
    }
   ],
   "source": [
    "# part2\n",
    "total = 70000000\n",
    "target_free = 30000000\n",
    "occupied = root_dir.calc_size()\n",
    "cur_free = total - occupied\n",
    "to_free = target_free - cur_free\n",
    "dir_sizes = [d.size for d in all_dirs.values()]\n",
    "dir_sizes.sort()\n",
    "for v in dir_sizes:\n",
    "    if v >= to_free:\n",
    "        print(v)\n",
    "        break"
   ]
  },
  {
   "cell_type": "code",
   "execution_count": null,
   "metadata": {},
   "outputs": [],
   "source": []
  }
 ],
 "metadata": {
  "kernelspec": {
   "display_name": "Test",
   "language": "python",
   "name": "python3"
  },
  "language_info": {
   "codemirror_mode": {
    "name": "ipython",
    "version": 3
   },
   "file_extension": ".py",
   "mimetype": "text/x-python",
   "name": "python",
   "nbconvert_exporter": "python",
   "pygments_lexer": "ipython3",
   "version": "3.11.5"
  }
 },
 "nbformat": 4,
 "nbformat_minor": 2
}
