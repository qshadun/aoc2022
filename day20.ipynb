{
 "cells": [
  {
   "cell_type": "code",
   "execution_count": 33,
   "metadata": {},
   "outputs": [],
   "source": [
    "from utils import read_lines\n",
    "\n",
    "def parse_input(input_file):\n",
    "    lines = read_lines(input_file)\n",
    "    return [int(line) for line in lines]\n",
    "\n",
    "def part1(input_file):\n",
    "    nums = parse_input(input_file)\n",
    "    n = len(nums)\n",
    "    cur_indexes = list(range(n))\n",
    "    for i in range(n):\n",
    "        start_idx = cur_indexes[i]\n",
    "        v = nums[start_idx]\n",
    "        if v == 0:\n",
    "            continue\n",
    "        if v > 0:\n",
    "            end_idx = start_idx + v\n",
    "            if end_idx >= n:\n",
    "                end_idx %= (n - 1)\n",
    "        else:\n",
    "            end_idx = start_idx + v\n",
    "            if end_idx < 0:\n",
    "                end_idx %= (n - 1)\n",
    "        if end_idx > start_idx:\n",
    "            for i in range(start_idx, end_idx):\n",
    "                nums[i] = nums[i + 1]\n",
    "            \n",
    "            for i, idx in enumerate(cur_indexes):\n",
    "                if start_idx < idx <= end_idx:\n",
    "                    cur_indexes[i] -= 1\n",
    "        else:\n",
    "            for i in range(start_idx, end_idx, -1):\n",
    "                nums[i] = nums[i - 1]\n",
    "            for i, idx in enumerate(cur_indexes):\n",
    "                if end_idx <= idx < start_idx:\n",
    "                    cur_indexes[i] += 1\n",
    "        nums[end_idx] = v\n",
    "        # print(nums)\n",
    "    idx = nums.index(0)\n",
    "    return nums[(idx + 1000)%n] + nums[(idx + 2000)%n] + nums[(idx+3000)%n]\n"
   ]
  },
  {
   "cell_type": "code",
   "execution_count": 34,
   "metadata": {},
   "outputs": [
    {
     "data": {
      "text/plain": [
       "3"
      ]
     },
     "execution_count": 34,
     "metadata": {},
     "output_type": "execute_result"
    }
   ],
   "source": [
    "part1('inputs/day20_test.txt')"
   ]
  },
  {
   "cell_type": "code",
   "execution_count": 35,
   "metadata": {},
   "outputs": [
    {
     "data": {
      "text/plain": [
       "3346"
      ]
     },
     "execution_count": 35,
     "metadata": {},
     "output_type": "execute_result"
    }
   ],
   "source": [
    "part1('inputs/day20.txt')"
   ]
  },
  {
   "cell_type": "code",
   "execution_count": 49,
   "metadata": {},
   "outputs": [],
   "source": [
    "\n",
    "def part2(input_file):\n",
    "    nums = parse_input(input_file)\n",
    "    nums = [x * 811589153 for x in nums]\n",
    "    n = len(nums)\n",
    "    cur_indexes = list(range(n))\n",
    "    for _ in range(10):\n",
    "        for j in range(n):\n",
    "            start_idx = cur_indexes[j]\n",
    "            v = nums[start_idx]\n",
    "            if v == 0:\n",
    "                continue\n",
    "            if v > 0:\n",
    "                end_idx = start_idx + v\n",
    "                if end_idx >= n:\n",
    "                    end_idx %= (n - 1)\n",
    "            else:\n",
    "                end_idx = start_idx + v\n",
    "                if end_idx < 0:\n",
    "                    end_idx %= (n - 1)\n",
    "            \n",
    "            if end_idx > start_idx:\n",
    "                for i in range(start_idx, end_idx):\n",
    "                    nums[i] = nums[i + 1]\n",
    "                \n",
    "                for i, idx in enumerate(cur_indexes):\n",
    "                    \n",
    "                    if start_idx < idx <= end_idx:\n",
    "                        cur_indexes[i] -= 1\n",
    "            else:\n",
    "                for i in range(start_idx, end_idx, -1):\n",
    "                    nums[i] = nums[i - 1]\n",
    "                for i, idx in enumerate(cur_indexes):\n",
    "                    if end_idx <= idx < start_idx:\n",
    "                        cur_indexes[i] += 1\n",
    "            cur_indexes[j] = end_idx\n",
    "            nums[end_idx] = v\n",
    "        # print(nums)\n",
    "    idx = nums.index(0)\n",
    "    return nums[(idx + 1000)%n] + nums[(idx + 2000)%n] + nums[(idx+3000)%n]"
   ]
  },
  {
   "cell_type": "code",
   "execution_count": 50,
   "metadata": {},
   "outputs": [
    {
     "data": {
      "text/plain": [
       "1623178306"
      ]
     },
     "execution_count": 50,
     "metadata": {},
     "output_type": "execute_result"
    }
   ],
   "source": [
    "part2('inputs/day20_test.txt')"
   ]
  },
  {
   "cell_type": "code",
   "execution_count": 51,
   "metadata": {},
   "outputs": [
    {
     "data": {
      "text/plain": [
       "4265712588168"
      ]
     },
     "execution_count": 51,
     "metadata": {},
     "output_type": "execute_result"
    }
   ],
   "source": [
    "part2('inputs/day20.txt')"
   ]
  },
  {
   "cell_type": "code",
   "execution_count": null,
   "metadata": {},
   "outputs": [],
   "source": []
  }
 ],
 "metadata": {
  "kernelspec": {
   "display_name": "base",
   "language": "python",
   "name": "python3"
  },
  "language_info": {
   "codemirror_mode": {
    "name": "ipython",
    "version": 3
   },
   "file_extension": ".py",
   "mimetype": "text/x-python",
   "name": "python",
   "nbconvert_exporter": "python",
   "pygments_lexer": "ipython3",
   "version": "3.9.13"
  }
 },
 "nbformat": 4,
 "nbformat_minor": 2
}
