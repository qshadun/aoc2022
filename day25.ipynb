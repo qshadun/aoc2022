{
 "cells": [
  {
   "cell_type": "code",
   "execution_count": 73,
   "metadata": {},
   "outputs": [],
   "source": [
    "from utils import read_lines\n",
    "import re\n",
    "\n",
    "char_to_int = {\n",
    "    '2': 2,\n",
    "    '1': 1,\n",
    "    '0': 0,\n",
    "    '-': -1,\n",
    "    '=': -2\n",
    "}\n",
    "neg_char = {\n",
    "    '2': '=',\n",
    "    '1': '-',\n",
    "    '0': '0',\n",
    "    '-': '1',\n",
    "    '=': '2'\n",
    "}\n",
    "\n",
    "def snafu(s):\n",
    "    n = len(s)\n",
    "    ans = 0\n",
    "    for i, c in enumerate(s):\n",
    "        ans += char_to_int[c] * 5 ** (n - i - 1)\n",
    "    return ans\n",
    "\n",
    "def neg_snafu(s):\n",
    "    return ''.join(neg_char[c] for c in s)\n",
    "\n",
    "def num_to_snafu(num):\n",
    "    if num <= 2:\n",
    "        return str(num)\n",
    "    n = 0\n",
    "    while 5 ** n < num:\n",
    "        n += 1\n",
    "    if num == 5 ** n:\n",
    "        return '1' + '0' * n\n",
    "    elif num > 5 ** n // 2:\n",
    "        sub = neg_snafu(num_to_snafu(5 ** n - num))\n",
    "        return '1' + '0' * (n - len(sub)) + sub\n",
    "    elif num >= 5 ** (n - 1) * 2:\n",
    "        sub = num_to_snafu(num - 5 ** (n - 1) * 2)\n",
    "        return '2' + '0' * (n - 1 - len(sub)) + sub\n",
    "    elif num > 5 ** (n - 1) + 5 ** (n - 1) // 2:\n",
    "        sub = neg_snafu(num_to_snafu(5 ** (n - 1) * 2 - num))\n",
    "        return '2' + '0' * (n - 1- len(sub)) + sub\n",
    "    else:\n",
    "        sub = num_to_snafu(num - 5 ** (n - 1))\n",
    "        return '1' + '0' * (n - 1 - len(sub)) + sub\n",
    "\n",
    "\n",
    "def part1(input_file):\n",
    "    ans = 0\n",
    "    for line in read_lines(input_file):\n",
    "        ans += snafu(line)\n",
    "    return ans, num_to_snafu(ans)\n"
   ]
  },
  {
   "cell_type": "code",
   "execution_count": 70,
   "metadata": {},
   "outputs": [
    {
     "name": "stdout",
     "output_type": "stream",
     "text": [
      "['1=-0-2', '1747']\n",
      "['12111', '906']\n",
      "['2=0=', '198']\n",
      "['21', '11']\n",
      "['2=01', '201']\n",
      "['111', '31']\n",
      "['20012', '1257']\n",
      "['112', '32']\n",
      "['1=-1=', '353']\n",
      "['1-12', '107']\n",
      "['12', '7']\n",
      "['1=', '3']\n",
      "['122', '37']\n"
     ]
    }
   ],
   "source": [
    "tests = \"\"\"1=-0-2     1747\n",
    " 12111      906\n",
    "  2=0=      198\n",
    "    21       11\n",
    "  2=01      201\n",
    "   111       31\n",
    " 20012     1257\n",
    "   112       32\n",
    " 1=-1=      353\n",
    "  1-12      107\n",
    "    12        7\n",
    "    1=        3\n",
    "   122       37\"\"\"\n",
    "for line in tests.split('\\n'):\n",
    "    p = [x for x in line.split(' ') if x]\n",
    "    print(p)\n",
    "    assert snafu(p[0]) == int(p[1])\n",
    "    assert num_to_snafu(int(p[1])) == p[0]"
   ]
  },
  {
   "cell_type": "code",
   "execution_count": 74,
   "metadata": {},
   "outputs": [
    {
     "data": {
      "text/plain": [
       "(34191676204851, '2-0-020-1==1021=--01')"
      ]
     },
     "execution_count": 74,
     "metadata": {},
     "output_type": "execute_result"
    }
   ],
   "source": [
    "part1('inputs/day25.txt')"
   ]
  },
  {
   "cell_type": "code",
   "execution_count": null,
   "metadata": {},
   "outputs": [],
   "source": []
  }
 ],
 "metadata": {
  "kernelspec": {
   "display_name": "Test",
   "language": "python",
   "name": "python3"
  },
  "language_info": {
   "codemirror_mode": {
    "name": "ipython",
    "version": 3
   },
   "file_extension": ".py",
   "mimetype": "text/x-python",
   "name": "python",
   "nbconvert_exporter": "python",
   "pygments_lexer": "ipython3",
   "version": "3.12.2"
  }
 },
 "nbformat": 4,
 "nbformat_minor": 2
}
