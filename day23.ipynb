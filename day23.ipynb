{
 "cells": [
  {
   "cell_type": "code",
   "execution_count": 17,
   "metadata": {},
   "outputs": [],
   "source": [
    "from utils import read_lines\n",
    "from dataclasses import dataclass\n",
    "from collections import defaultdict\n",
    "\n",
    "N = 'N'\n",
    "S = 'S'\n",
    "W = 'W'\n",
    "E = 'E'\n",
    "NW = 'NW'\n",
    "NE = 'NE'\n",
    "SW = 'SW'\n",
    "SE = 'SE'\n",
    "\n",
    "Deltas = {\n",
    "    N: (-1, 0),\n",
    "    S: (1, 0),\n",
    "    W: (0, -1),\n",
    "    E: (0, 1),\n",
    "    NW: (-1, -1),\n",
    "    NE: (-1, 1),\n",
    "    SW: (1, -1),\n",
    "    SE: (1, 1),\n",
    "}\n",
    "\n",
    "Check = {\n",
    "    N: [NW, N, NE],\n",
    "    S: [SW, S, SE],\n",
    "    W: [NW, W, SW],\n",
    "    E: [NE, E, SE],\n",
    "}\n",
    "\n",
    "all_directions = [N, S, W, E, NW, NE, SW, SE]\n",
    "\n",
    "\n",
    "@dataclass(frozen=True)\n",
    "class Point:\n",
    "    x: int\n",
    "    y: int\n",
    "\n",
    "    def get_neighbor(self, direction):\n",
    "        dx, dy = Deltas[direction]\n",
    "        return Point(self.x + dx, self.y + dy)\n",
    "    \n",
    "    def can_move(self, points: set['Point']) -> bool:\n",
    "        for dir in all_directions:\n",
    "            if self.get_neighbor(dir) in points:\n",
    "                return True\n",
    "        return False\n",
    "    \n",
    "    def get_move(self, points: set['Point'], turns):\n",
    "        for dir in turns:\n",
    "            can_move = True\n",
    "            for chk_dir in Check[dir]:\n",
    "                if self.get_neighbor(chk_dir) in points:\n",
    "                    can_move = False\n",
    "                    break\n",
    "            if can_move:\n",
    "                return self.get_neighbor(dir)\n",
    "        return None\n",
    "    \n",
    "\n",
    "\n",
    "def parse_input(input_file):\n",
    "    lines = read_lines(input_file)\n",
    "    elfs = set()\n",
    "    for i, line in enumerate(lines):\n",
    "        for j, c in enumerate(line):\n",
    "            if c == '#':\n",
    "                elfs.add(Point(i, j))\n",
    "    return elfs\n",
    "\n",
    "def one_turn(points: set['Point'], turns):\n",
    "    propose = {}\n",
    "    targets = defaultdict(int)\n",
    "    for p in points:\n",
    "        if p.can_move(points):\n",
    "            tgt = p.get_move(points, turns)\n",
    "            propose[p] = tgt\n",
    "            if tgt:\n",
    "                targets[tgt] += 1\n",
    "        else:\n",
    "            propose[p] = None\n",
    "    new_points = set()\n",
    "    move_cnt = 0\n",
    "    for p, np in propose.items():\n",
    "        if np and targets[np] == 1:\n",
    "            new_points.add(np)\n",
    "            move_cnt += 1\n",
    "        else:\n",
    "            new_points.add(p)\n",
    "    return new_points, turns[1:] + [turns[0]], move_cnt\n",
    "\n",
    "def calc_land(points):\n",
    "    min_x = min(p.x for p in points)\n",
    "    max_x = max(p.x for p in points)\n",
    "    min_y = min(p.y for p in points)\n",
    "    max_y = max(p.y for p in points)\n",
    "    return (max_x - min_x + 1) * (max_y - min_y + 1) - len(points)\n",
    "\n",
    "def part1(input_file):\n",
    "    points = parse_input(input_file)\n",
    "    turns = [N, S, W, E]\n",
    "    for _ in range(10):\n",
    "        points, turns, _ = one_turn(points, turns)\n",
    "    return calc_land(points)\n",
    "\n",
    "def part2(input_file):\n",
    "    points = parse_input(input_file)\n",
    "    turns = [N, S, W, E]\n",
    "    rounds = 0\n",
    "    while True:\n",
    "        points, turns, move_cnt = one_turn(points, turns)\n",
    "        rounds += 1\n",
    "        if move_cnt == 0:\n",
    "            break\n",
    "    return rounds"
   ]
  },
  {
   "cell_type": "code",
   "execution_count": 16,
   "metadata": {},
   "outputs": [
    {
     "data": {
      "text/plain": [
       "4034"
      ]
     },
     "execution_count": 16,
     "metadata": {},
     "output_type": "execute_result"
    }
   ],
   "source": [
    "part1('inputs/day23.txt')"
   ]
  },
  {
   "cell_type": "code",
   "execution_count": 19,
   "metadata": {},
   "outputs": [
    {
     "data": {
      "text/plain": [
       "960"
      ]
     },
     "execution_count": 19,
     "metadata": {},
     "output_type": "execute_result"
    }
   ],
   "source": [
    "part2('inputs/day23.txt')"
   ]
  },
  {
   "cell_type": "code",
   "execution_count": null,
   "metadata": {},
   "outputs": [],
   "source": []
  }
 ],
 "metadata": {
  "kernelspec": {
   "display_name": "Test",
   "language": "python",
   "name": "python3"
  },
  "language_info": {
   "codemirror_mode": {
    "name": "ipython",
    "version": 3
   },
   "file_extension": ".py",
   "mimetype": "text/x-python",
   "name": "python",
   "nbconvert_exporter": "python",
   "pygments_lexer": "ipython3",
   "version": "3.12.2"
  }
 },
 "nbformat": 4,
 "nbformat_minor": 2
}
